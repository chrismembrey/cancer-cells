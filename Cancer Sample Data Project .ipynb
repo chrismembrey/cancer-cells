{
 "cells": [
  {
   "cell_type": "code",
   "execution_count": 4,
   "metadata": {},
   "outputs": [],
   "source": [
    "import pandas as pd\n",
    "import numpy as np \n",
    "import matplotlib.pyplot as plt\n",
    "import seaborn as sns"
   ]
  },
  {
   "cell_type": "code",
   "execution_count": 6,
   "metadata": {},
   "outputs": [
    {
     "data": {
      "text/html": [
       "<div>\n",
       "<style scoped>\n",
       "    .dataframe tbody tr th:only-of-type {\n",
       "        vertical-align: middle;\n",
       "    }\n",
       "\n",
       "    .dataframe tbody tr th {\n",
       "        vertical-align: top;\n",
       "    }\n",
       "\n",
       "    .dataframe thead th {\n",
       "        text-align: right;\n",
       "    }\n",
       "</style>\n",
       "<table border=\"1\" class=\"dataframe\">\n",
       "  <thead>\n",
       "    <tr style=\"text-align: right;\">\n",
       "      <th></th>\n",
       "      <th>ID</th>\n",
       "      <th>Clump</th>\n",
       "      <th>UnifSize</th>\n",
       "      <th>UnifShape</th>\n",
       "      <th>MargAdh</th>\n",
       "      <th>SingEpiSize</th>\n",
       "      <th>BareNuc</th>\n",
       "      <th>BlandChrom</th>\n",
       "      <th>NormNucl</th>\n",
       "      <th>Mit</th>\n",
       "      <th>Class</th>\n",
       "    </tr>\n",
       "  </thead>\n",
       "  <tbody>\n",
       "    <tr>\n",
       "      <th>0</th>\n",
       "      <td>1000025</td>\n",
       "      <td>5</td>\n",
       "      <td>1</td>\n",
       "      <td>1</td>\n",
       "      <td>1</td>\n",
       "      <td>2</td>\n",
       "      <td>1</td>\n",
       "      <td>3</td>\n",
       "      <td>1</td>\n",
       "      <td>1</td>\n",
       "      <td>2</td>\n",
       "    </tr>\n",
       "    <tr>\n",
       "      <th>1</th>\n",
       "      <td>1002945</td>\n",
       "      <td>5</td>\n",
       "      <td>4</td>\n",
       "      <td>4</td>\n",
       "      <td>5</td>\n",
       "      <td>7</td>\n",
       "      <td>10</td>\n",
       "      <td>3</td>\n",
       "      <td>2</td>\n",
       "      <td>1</td>\n",
       "      <td>2</td>\n",
       "    </tr>\n",
       "    <tr>\n",
       "      <th>2</th>\n",
       "      <td>1015425</td>\n",
       "      <td>3</td>\n",
       "      <td>1</td>\n",
       "      <td>1</td>\n",
       "      <td>1</td>\n",
       "      <td>2</td>\n",
       "      <td>2</td>\n",
       "      <td>3</td>\n",
       "      <td>1</td>\n",
       "      <td>1</td>\n",
       "      <td>2</td>\n",
       "    </tr>\n",
       "    <tr>\n",
       "      <th>3</th>\n",
       "      <td>1016277</td>\n",
       "      <td>6</td>\n",
       "      <td>8</td>\n",
       "      <td>8</td>\n",
       "      <td>1</td>\n",
       "      <td>3</td>\n",
       "      <td>4</td>\n",
       "      <td>3</td>\n",
       "      <td>7</td>\n",
       "      <td>1</td>\n",
       "      <td>2</td>\n",
       "    </tr>\n",
       "    <tr>\n",
       "      <th>4</th>\n",
       "      <td>1017023</td>\n",
       "      <td>4</td>\n",
       "      <td>1</td>\n",
       "      <td>1</td>\n",
       "      <td>3</td>\n",
       "      <td>2</td>\n",
       "      <td>1</td>\n",
       "      <td>3</td>\n",
       "      <td>1</td>\n",
       "      <td>1</td>\n",
       "      <td>2</td>\n",
       "    </tr>\n",
       "  </tbody>\n",
       "</table>\n",
       "</div>"
      ],
      "text/plain": [
       "        ID  Clump  UnifSize  UnifShape  MargAdh  SingEpiSize BareNuc  \\\n",
       "0  1000025      5         1          1        1            2       1   \n",
       "1  1002945      5         4          4        5            7      10   \n",
       "2  1015425      3         1          1        1            2       2   \n",
       "3  1016277      6         8          8        1            3       4   \n",
       "4  1017023      4         1          1        3            2       1   \n",
       "\n",
       "   BlandChrom  NormNucl  Mit  Class  \n",
       "0           3         1    1      2  \n",
       "1           3         2    1      2  \n",
       "2           3         1    1      2  \n",
       "3           3         7    1      2  \n",
       "4           3         1    1      2  "
      ]
     },
     "execution_count": 6,
     "metadata": {},
     "output_type": "execute_result"
    }
   ],
   "source": [
    "raw_data = pd.read_csv('file:///Volumes/WORK/Data%20Science/Projects/Cancer%20sample%20dataset%20project/cell_samples%20copy.csv')\n",
    "raw_data.head()\n",
    "\n",
    "#Class: 2 = benign 4 = malignant"
   ]
  },
  {
   "cell_type": "code",
   "execution_count": 7,
   "metadata": {},
   "outputs": [],
   "source": [
    "#rename the headers to more understandable titles\n",
    "headers = ['Patient ID', 'Clump Thickness', 'Uniformity of cell size', 'Uniformity of Cell Shape', 'Marginal Adhesion','single epithilial cell size', 'Bare Nuclei', 'Bland Chromatin','Normal Neucleoli', 'Mitosis', 'Malignant' ]\n",
    "raw_data.columns = headers\n"
   ]
  },
  {
   "cell_type": "code",
   "execution_count": 8,
   "metadata": {},
   "outputs": [
    {
     "data": {
      "text/html": [
       "<div>\n",
       "<style scoped>\n",
       "    .dataframe tbody tr th:only-of-type {\n",
       "        vertical-align: middle;\n",
       "    }\n",
       "\n",
       "    .dataframe tbody tr th {\n",
       "        vertical-align: top;\n",
       "    }\n",
       "\n",
       "    .dataframe thead th {\n",
       "        text-align: right;\n",
       "    }\n",
       "</style>\n",
       "<table border=\"1\" class=\"dataframe\">\n",
       "  <thead>\n",
       "    <tr style=\"text-align: right;\">\n",
       "      <th></th>\n",
       "      <th>Patient ID</th>\n",
       "      <th>Clump Thickness</th>\n",
       "      <th>Uniformity of cell size</th>\n",
       "      <th>Uniformity of Cell Shape</th>\n",
       "      <th>Marginal Adhesion</th>\n",
       "      <th>single epithilial cell size</th>\n",
       "      <th>Bare Nuclei</th>\n",
       "      <th>Bland Chromatin</th>\n",
       "      <th>Normal Neucleoli</th>\n",
       "      <th>Mitosis</th>\n",
       "      <th>Malignant</th>\n",
       "    </tr>\n",
       "  </thead>\n",
       "  <tbody>\n",
       "    <tr>\n",
       "      <th>0</th>\n",
       "      <td>1000025</td>\n",
       "      <td>5</td>\n",
       "      <td>1</td>\n",
       "      <td>1</td>\n",
       "      <td>1</td>\n",
       "      <td>2</td>\n",
       "      <td>1</td>\n",
       "      <td>3</td>\n",
       "      <td>1</td>\n",
       "      <td>1</td>\n",
       "      <td>0</td>\n",
       "    </tr>\n",
       "    <tr>\n",
       "      <th>1</th>\n",
       "      <td>1002945</td>\n",
       "      <td>5</td>\n",
       "      <td>4</td>\n",
       "      <td>4</td>\n",
       "      <td>5</td>\n",
       "      <td>7</td>\n",
       "      <td>10</td>\n",
       "      <td>3</td>\n",
       "      <td>2</td>\n",
       "      <td>1</td>\n",
       "      <td>0</td>\n",
       "    </tr>\n",
       "    <tr>\n",
       "      <th>2</th>\n",
       "      <td>1015425</td>\n",
       "      <td>3</td>\n",
       "      <td>1</td>\n",
       "      <td>1</td>\n",
       "      <td>1</td>\n",
       "      <td>2</td>\n",
       "      <td>2</td>\n",
       "      <td>3</td>\n",
       "      <td>1</td>\n",
       "      <td>1</td>\n",
       "      <td>0</td>\n",
       "    </tr>\n",
       "    <tr>\n",
       "      <th>3</th>\n",
       "      <td>1016277</td>\n",
       "      <td>6</td>\n",
       "      <td>8</td>\n",
       "      <td>8</td>\n",
       "      <td>1</td>\n",
       "      <td>3</td>\n",
       "      <td>4</td>\n",
       "      <td>3</td>\n",
       "      <td>7</td>\n",
       "      <td>1</td>\n",
       "      <td>0</td>\n",
       "    </tr>\n",
       "    <tr>\n",
       "      <th>4</th>\n",
       "      <td>1017023</td>\n",
       "      <td>4</td>\n",
       "      <td>1</td>\n",
       "      <td>1</td>\n",
       "      <td>3</td>\n",
       "      <td>2</td>\n",
       "      <td>1</td>\n",
       "      <td>3</td>\n",
       "      <td>1</td>\n",
       "      <td>1</td>\n",
       "      <td>0</td>\n",
       "    </tr>\n",
       "    <tr>\n",
       "      <th>5</th>\n",
       "      <td>1017122</td>\n",
       "      <td>8</td>\n",
       "      <td>10</td>\n",
       "      <td>10</td>\n",
       "      <td>8</td>\n",
       "      <td>7</td>\n",
       "      <td>10</td>\n",
       "      <td>9</td>\n",
       "      <td>7</td>\n",
       "      <td>1</td>\n",
       "      <td>1</td>\n",
       "    </tr>\n",
       "    <tr>\n",
       "      <th>6</th>\n",
       "      <td>1018099</td>\n",
       "      <td>1</td>\n",
       "      <td>1</td>\n",
       "      <td>1</td>\n",
       "      <td>1</td>\n",
       "      <td>2</td>\n",
       "      <td>10</td>\n",
       "      <td>3</td>\n",
       "      <td>1</td>\n",
       "      <td>1</td>\n",
       "      <td>0</td>\n",
       "    </tr>\n",
       "    <tr>\n",
       "      <th>7</th>\n",
       "      <td>1018561</td>\n",
       "      <td>2</td>\n",
       "      <td>1</td>\n",
       "      <td>2</td>\n",
       "      <td>1</td>\n",
       "      <td>2</td>\n",
       "      <td>1</td>\n",
       "      <td>3</td>\n",
       "      <td>1</td>\n",
       "      <td>1</td>\n",
       "      <td>0</td>\n",
       "    </tr>\n",
       "    <tr>\n",
       "      <th>8</th>\n",
       "      <td>1033078</td>\n",
       "      <td>2</td>\n",
       "      <td>1</td>\n",
       "      <td>1</td>\n",
       "      <td>1</td>\n",
       "      <td>2</td>\n",
       "      <td>1</td>\n",
       "      <td>1</td>\n",
       "      <td>1</td>\n",
       "      <td>5</td>\n",
       "      <td>0</td>\n",
       "    </tr>\n",
       "    <tr>\n",
       "      <th>9</th>\n",
       "      <td>1033078</td>\n",
       "      <td>4</td>\n",
       "      <td>2</td>\n",
       "      <td>1</td>\n",
       "      <td>1</td>\n",
       "      <td>2</td>\n",
       "      <td>1</td>\n",
       "      <td>2</td>\n",
       "      <td>1</td>\n",
       "      <td>1</td>\n",
       "      <td>0</td>\n",
       "    </tr>\n",
       "  </tbody>\n",
       "</table>\n",
       "</div>"
      ],
      "text/plain": [
       "   Patient ID  Clump Thickness  Uniformity of cell size  \\\n",
       "0     1000025                5                        1   \n",
       "1     1002945                5                        4   \n",
       "2     1015425                3                        1   \n",
       "3     1016277                6                        8   \n",
       "4     1017023                4                        1   \n",
       "5     1017122                8                       10   \n",
       "6     1018099                1                        1   \n",
       "7     1018561                2                        1   \n",
       "8     1033078                2                        1   \n",
       "9     1033078                4                        2   \n",
       "\n",
       "   Uniformity of Cell Shape  Marginal Adhesion  single epithilial cell size  \\\n",
       "0                         1                  1                            2   \n",
       "1                         4                  5                            7   \n",
       "2                         1                  1                            2   \n",
       "3                         8                  1                            3   \n",
       "4                         1                  3                            2   \n",
       "5                        10                  8                            7   \n",
       "6                         1                  1                            2   \n",
       "7                         2                  1                            2   \n",
       "8                         1                  1                            2   \n",
       "9                         1                  1                            2   \n",
       "\n",
       "  Bare Nuclei  Bland Chromatin  Normal Neucleoli  Mitosis  Malignant  \n",
       "0           1                3                 1        1          0  \n",
       "1          10                3                 2        1          0  \n",
       "2           2                3                 1        1          0  \n",
       "3           4                3                 7        1          0  \n",
       "4           1                3                 1        1          0  \n",
       "5          10                9                 7        1          1  \n",
       "6          10                3                 1        1          0  \n",
       "7           1                3                 1        1          0  \n",
       "8           1                1                 1        5          0  \n",
       "9           1                2                 1        1          0  "
      ]
     },
     "execution_count": 8,
     "metadata": {},
     "output_type": "execute_result"
    }
   ],
   "source": [
    "#re map the 2 and 4 in the malignant column to 1 and 0 (yes and no)\n",
    "\n",
    "data = raw_data.copy()\n",
    "data['Malignant'] = data['Malignant'].map({2:0, 4:1})\n",
    "data.head(10)"
   ]
  },
  {
   "cell_type": "code",
   "execution_count": 121,
   "metadata": {},
   "outputs": [
    {
     "data": {
      "text/html": [
       "<div>\n",
       "<style scoped>\n",
       "    .dataframe tbody tr th:only-of-type {\n",
       "        vertical-align: middle;\n",
       "    }\n",
       "\n",
       "    .dataframe tbody tr th {\n",
       "        vertical-align: top;\n",
       "    }\n",
       "\n",
       "    .dataframe thead th {\n",
       "        text-align: right;\n",
       "    }\n",
       "</style>\n",
       "<table border=\"1\" class=\"dataframe\">\n",
       "  <thead>\n",
       "    <tr style=\"text-align: right;\">\n",
       "      <th></th>\n",
       "      <th>Patient ID</th>\n",
       "      <th>Clump Thickness</th>\n",
       "      <th>Uniformity of cell size</th>\n",
       "      <th>Uniformity of Cell Shape</th>\n",
       "      <th>Marginal Adhesion</th>\n",
       "      <th>single epithilial cell size</th>\n",
       "      <th>Bland Chromatin</th>\n",
       "      <th>Normal Neucleoli</th>\n",
       "      <th>Mitosis</th>\n",
       "      <th>Malignant</th>\n",
       "    </tr>\n",
       "  </thead>\n",
       "  <tbody>\n",
       "    <tr>\n",
       "      <th>count</th>\n",
       "      <td>6.990000e+02</td>\n",
       "      <td>699.000000</td>\n",
       "      <td>699.000000</td>\n",
       "      <td>699.000000</td>\n",
       "      <td>699.000000</td>\n",
       "      <td>699.000000</td>\n",
       "      <td>699.000000</td>\n",
       "      <td>699.000000</td>\n",
       "      <td>699.000000</td>\n",
       "      <td>699.000000</td>\n",
       "    </tr>\n",
       "    <tr>\n",
       "      <th>mean</th>\n",
       "      <td>1.071704e+06</td>\n",
       "      <td>4.417740</td>\n",
       "      <td>3.134478</td>\n",
       "      <td>3.207439</td>\n",
       "      <td>2.806867</td>\n",
       "      <td>3.216023</td>\n",
       "      <td>3.437768</td>\n",
       "      <td>2.866953</td>\n",
       "      <td>1.589413</td>\n",
       "      <td>0.344778</td>\n",
       "    </tr>\n",
       "    <tr>\n",
       "      <th>std</th>\n",
       "      <td>6.170957e+05</td>\n",
       "      <td>2.815741</td>\n",
       "      <td>3.051459</td>\n",
       "      <td>2.971913</td>\n",
       "      <td>2.855379</td>\n",
       "      <td>2.214300</td>\n",
       "      <td>2.438364</td>\n",
       "      <td>3.053634</td>\n",
       "      <td>1.715078</td>\n",
       "      <td>0.475636</td>\n",
       "    </tr>\n",
       "    <tr>\n",
       "      <th>min</th>\n",
       "      <td>6.163400e+04</td>\n",
       "      <td>1.000000</td>\n",
       "      <td>1.000000</td>\n",
       "      <td>1.000000</td>\n",
       "      <td>1.000000</td>\n",
       "      <td>1.000000</td>\n",
       "      <td>1.000000</td>\n",
       "      <td>1.000000</td>\n",
       "      <td>1.000000</td>\n",
       "      <td>0.000000</td>\n",
       "    </tr>\n",
       "    <tr>\n",
       "      <th>25%</th>\n",
       "      <td>8.706885e+05</td>\n",
       "      <td>2.000000</td>\n",
       "      <td>1.000000</td>\n",
       "      <td>1.000000</td>\n",
       "      <td>1.000000</td>\n",
       "      <td>2.000000</td>\n",
       "      <td>2.000000</td>\n",
       "      <td>1.000000</td>\n",
       "      <td>1.000000</td>\n",
       "      <td>0.000000</td>\n",
       "    </tr>\n",
       "    <tr>\n",
       "      <th>50%</th>\n",
       "      <td>1.171710e+06</td>\n",
       "      <td>4.000000</td>\n",
       "      <td>1.000000</td>\n",
       "      <td>1.000000</td>\n",
       "      <td>1.000000</td>\n",
       "      <td>2.000000</td>\n",
       "      <td>3.000000</td>\n",
       "      <td>1.000000</td>\n",
       "      <td>1.000000</td>\n",
       "      <td>0.000000</td>\n",
       "    </tr>\n",
       "    <tr>\n",
       "      <th>75%</th>\n",
       "      <td>1.238298e+06</td>\n",
       "      <td>6.000000</td>\n",
       "      <td>5.000000</td>\n",
       "      <td>5.000000</td>\n",
       "      <td>4.000000</td>\n",
       "      <td>4.000000</td>\n",
       "      <td>5.000000</td>\n",
       "      <td>4.000000</td>\n",
       "      <td>1.000000</td>\n",
       "      <td>1.000000</td>\n",
       "    </tr>\n",
       "    <tr>\n",
       "      <th>max</th>\n",
       "      <td>1.345435e+07</td>\n",
       "      <td>10.000000</td>\n",
       "      <td>10.000000</td>\n",
       "      <td>10.000000</td>\n",
       "      <td>10.000000</td>\n",
       "      <td>10.000000</td>\n",
       "      <td>10.000000</td>\n",
       "      <td>10.000000</td>\n",
       "      <td>10.000000</td>\n",
       "      <td>1.000000</td>\n",
       "    </tr>\n",
       "  </tbody>\n",
       "</table>\n",
       "</div>"
      ],
      "text/plain": [
       "         Patient ID  Clump Thickness  Uniformity of cell size  \\\n",
       "count  6.990000e+02       699.000000               699.000000   \n",
       "mean   1.071704e+06         4.417740                 3.134478   \n",
       "std    6.170957e+05         2.815741                 3.051459   \n",
       "min    6.163400e+04         1.000000                 1.000000   \n",
       "25%    8.706885e+05         2.000000                 1.000000   \n",
       "50%    1.171710e+06         4.000000                 1.000000   \n",
       "75%    1.238298e+06         6.000000                 5.000000   \n",
       "max    1.345435e+07        10.000000                10.000000   \n",
       "\n",
       "       Uniformity of Cell Shape  Marginal Adhesion  \\\n",
       "count                699.000000         699.000000   \n",
       "mean                   3.207439           2.806867   \n",
       "std                    2.971913           2.855379   \n",
       "min                    1.000000           1.000000   \n",
       "25%                    1.000000           1.000000   \n",
       "50%                    1.000000           1.000000   \n",
       "75%                    5.000000           4.000000   \n",
       "max                   10.000000          10.000000   \n",
       "\n",
       "       single epithilial cell size  Bland Chromatin  Normal Neucleoli  \\\n",
       "count                   699.000000       699.000000        699.000000   \n",
       "mean                      3.216023         3.437768          2.866953   \n",
       "std                       2.214300         2.438364          3.053634   \n",
       "min                       1.000000         1.000000          1.000000   \n",
       "25%                       2.000000         2.000000          1.000000   \n",
       "50%                       2.000000         3.000000          1.000000   \n",
       "75%                       4.000000         5.000000          4.000000   \n",
       "max                      10.000000        10.000000         10.000000   \n",
       "\n",
       "          Mitosis   Malignant  \n",
       "count  699.000000  699.000000  \n",
       "mean     1.589413    0.344778  \n",
       "std      1.715078    0.475636  \n",
       "min      1.000000    0.000000  \n",
       "25%      1.000000    0.000000  \n",
       "50%      1.000000    0.000000  \n",
       "75%      1.000000    1.000000  \n",
       "max     10.000000    1.000000  "
      ]
     },
     "execution_count": 121,
     "metadata": {},
     "output_type": "execute_result"
    }
   ],
   "source": [
    "data.describe()\n",
    "#from this we can see that data doesnt require scaling as all factors are valued between 1-10"
   ]
  },
  {
   "cell_type": "code",
   "execution_count": 69,
   "metadata": {},
   "outputs": [
    {
     "data": {
      "text/plain": [
       "Patient ID                      int64\n",
       "Clump Thickness                 int64\n",
       "Uniformity of cell size         int64\n",
       "Uniformity of Cell Shape        int64\n",
       "Marginal Adhesion               int64\n",
       "single epithilial cell size     int64\n",
       "Bare Nuclei                    object\n",
       "Bland Chromatin                 int64\n",
       "Normal Neucleoli                int64\n",
       "Mitosis                         int64\n",
       "Malignant                       int64\n",
       "dtype: object"
      ]
     },
     "execution_count": 69,
     "metadata": {},
     "output_type": "execute_result"
    }
   ],
   "source": [
    "data.dtypes"
   ]
  },
  {
   "cell_type": "code",
   "execution_count": 109,
   "metadata": {
    "scrolled": true
   },
   "outputs": [
    {
     "name": "stdout",
     "output_type": "stream",
     "text": [
      "(699, 11)\n"
     ]
    },
    {
     "data": {
      "text/plain": [
       "(683, 11)"
      ]
     },
     "execution_count": 109,
     "metadata": {},
     "output_type": "execute_result"
    }
   ],
   "source": [
    "#getting rid of the questions marks from the bare nuceli group and creating a separate dataset based upon that\n",
    "data['Bare Nuclei'] = data['Bare Nuclei'].replace('?', np.nan)\n",
    "data['Bare Nuclei'].values\n",
    "data.isnull().sum()\n",
    "dropped_qmarks = data.dropna(axis = 0)\n",
    "print(data.shape)\n",
    "dropped_qmarks.shape"
   ]
  },
  {
   "cell_type": "code",
   "execution_count": 64,
   "metadata": {},
   "outputs": [
    {
     "data": {
      "text/plain": [
       "Patient ID                     0\n",
       "Clump Thickness                0\n",
       "Uniformity of cell size        0\n",
       "Uniformity of Cell Shape       0\n",
       "Marginal Adhesion              0\n",
       "single epithilial cell size    0\n",
       "Bare Nuclei                    0\n",
       "Bland Chromatin                0\n",
       "Normal Neucleoli               0\n",
       "Mitosis                        0\n",
       "Malignant                      0\n",
       "dtype: int64"
      ]
     },
     "execution_count": 64,
     "metadata": {},
     "output_type": "execute_result"
    }
   ],
   "source": [
    "data.isnull().sum()"
   ]
  },
  {
   "cell_type": "code",
   "execution_count": 127,
   "metadata": {},
   "outputs": [
    {
     "data": {
      "text/plain": [
       "Patient ID                      int64\n",
       "Clump Thickness                 int64\n",
       "Uniformity of cell size         int64\n",
       "Uniformity of Cell Shape        int64\n",
       "Marginal Adhesion               int64\n",
       "single epithilial cell size     int64\n",
       "Bare Nuclei                    object\n",
       "Bland Chromatin                 int64\n",
       "Normal Neucleoli                int64\n",
       "Mitosis                         int64\n",
       "Malignant                       int64\n",
       "dtype: object"
      ]
     },
     "execution_count": 127,
     "metadata": {},
     "output_type": "execute_result"
    }
   ],
   "source": [
    "dropped_qmarks.dtypes"
   ]
  },
  {
   "cell_type": "code",
   "execution_count": 129,
   "metadata": {},
   "outputs": [
    {
     "data": {
      "text/plain": [
       "0       1\n",
       "1      10\n",
       "2       2\n",
       "3       4\n",
       "4       1\n",
       "       ..\n",
       "694     2\n",
       "695     1\n",
       "696     3\n",
       "697     4\n",
       "698     5\n",
       "Name: Bare Nuclei, Length: 683, dtype: int64"
      ]
     },
     "execution_count": 129,
     "metadata": {},
     "output_type": "execute_result"
    }
   ],
   "source": [
    "dropped_qmarks['Bare Nuclei'].astype('int')"
   ]
  },
  {
   "cell_type": "code",
   "execution_count": 9,
   "metadata": {},
   "outputs": [
    {
     "data": {
      "text/html": [
       "<div>\n",
       "<style scoped>\n",
       "    .dataframe tbody tr th:only-of-type {\n",
       "        vertical-align: middle;\n",
       "    }\n",
       "\n",
       "    .dataframe tbody tr th {\n",
       "        vertical-align: top;\n",
       "    }\n",
       "\n",
       "    .dataframe thead th {\n",
       "        text-align: right;\n",
       "    }\n",
       "</style>\n",
       "<table border=\"1\" class=\"dataframe\">\n",
       "  <thead>\n",
       "    <tr style=\"text-align: right;\">\n",
       "      <th></th>\n",
       "      <th>Patient ID</th>\n",
       "      <th>Clump Thickness</th>\n",
       "      <th>Uniformity of cell size</th>\n",
       "      <th>Uniformity of Cell Shape</th>\n",
       "      <th>Marginal Adhesion</th>\n",
       "      <th>single epithilial cell size</th>\n",
       "      <th>Bland Chromatin</th>\n",
       "      <th>Normal Neucleoli</th>\n",
       "      <th>Mitosis</th>\n",
       "      <th>Malignant</th>\n",
       "    </tr>\n",
       "  </thead>\n",
       "  <tbody>\n",
       "    <tr>\n",
       "      <th>Patient ID</th>\n",
       "      <td>1.000000</td>\n",
       "      <td>-0.055308</td>\n",
       "      <td>-0.041603</td>\n",
       "      <td>-0.041576</td>\n",
       "      <td>-0.064878</td>\n",
       "      <td>-0.045528</td>\n",
       "      <td>-0.060051</td>\n",
       "      <td>-0.052072</td>\n",
       "      <td>-0.034901</td>\n",
       "      <td>-0.080226</td>\n",
       "    </tr>\n",
       "    <tr>\n",
       "      <th>Clump Thickness</th>\n",
       "      <td>-0.055308</td>\n",
       "      <td>1.000000</td>\n",
       "      <td>0.644913</td>\n",
       "      <td>0.654589</td>\n",
       "      <td>0.486356</td>\n",
       "      <td>0.521816</td>\n",
       "      <td>0.558428</td>\n",
       "      <td>0.535835</td>\n",
       "      <td>0.350034</td>\n",
       "      <td>0.716001</td>\n",
       "    </tr>\n",
       "    <tr>\n",
       "      <th>Uniformity of cell size</th>\n",
       "      <td>-0.041603</td>\n",
       "      <td>0.644913</td>\n",
       "      <td>1.000000</td>\n",
       "      <td>0.906882</td>\n",
       "      <td>0.705582</td>\n",
       "      <td>0.751799</td>\n",
       "      <td>0.755721</td>\n",
       "      <td>0.722865</td>\n",
       "      <td>0.458693</td>\n",
       "      <td>0.817904</td>\n",
       "    </tr>\n",
       "    <tr>\n",
       "      <th>Uniformity of Cell Shape</th>\n",
       "      <td>-0.041576</td>\n",
       "      <td>0.654589</td>\n",
       "      <td>0.906882</td>\n",
       "      <td>1.000000</td>\n",
       "      <td>0.683079</td>\n",
       "      <td>0.719668</td>\n",
       "      <td>0.735948</td>\n",
       "      <td>0.719446</td>\n",
       "      <td>0.438911</td>\n",
       "      <td>0.818934</td>\n",
       "    </tr>\n",
       "    <tr>\n",
       "      <th>Marginal Adhesion</th>\n",
       "      <td>-0.064878</td>\n",
       "      <td>0.486356</td>\n",
       "      <td>0.705582</td>\n",
       "      <td>0.683079</td>\n",
       "      <td>1.000000</td>\n",
       "      <td>0.599599</td>\n",
       "      <td>0.666715</td>\n",
       "      <td>0.603352</td>\n",
       "      <td>0.417633</td>\n",
       "      <td>0.696800</td>\n",
       "    </tr>\n",
       "    <tr>\n",
       "      <th>single epithilial cell size</th>\n",
       "      <td>-0.045528</td>\n",
       "      <td>0.521816</td>\n",
       "      <td>0.751799</td>\n",
       "      <td>0.719668</td>\n",
       "      <td>0.599599</td>\n",
       "      <td>1.000000</td>\n",
       "      <td>0.616102</td>\n",
       "      <td>0.628881</td>\n",
       "      <td>0.479101</td>\n",
       "      <td>0.682785</td>\n",
       "    </tr>\n",
       "    <tr>\n",
       "      <th>Bland Chromatin</th>\n",
       "      <td>-0.060051</td>\n",
       "      <td>0.558428</td>\n",
       "      <td>0.755721</td>\n",
       "      <td>0.735948</td>\n",
       "      <td>0.666715</td>\n",
       "      <td>0.616102</td>\n",
       "      <td>1.000000</td>\n",
       "      <td>0.665878</td>\n",
       "      <td>0.344169</td>\n",
       "      <td>0.756616</td>\n",
       "    </tr>\n",
       "    <tr>\n",
       "      <th>Normal Neucleoli</th>\n",
       "      <td>-0.052072</td>\n",
       "      <td>0.535835</td>\n",
       "      <td>0.722865</td>\n",
       "      <td>0.719446</td>\n",
       "      <td>0.603352</td>\n",
       "      <td>0.628881</td>\n",
       "      <td>0.665878</td>\n",
       "      <td>1.000000</td>\n",
       "      <td>0.428336</td>\n",
       "      <td>0.712244</td>\n",
       "    </tr>\n",
       "    <tr>\n",
       "      <th>Mitosis</th>\n",
       "      <td>-0.034901</td>\n",
       "      <td>0.350034</td>\n",
       "      <td>0.458693</td>\n",
       "      <td>0.438911</td>\n",
       "      <td>0.417633</td>\n",
       "      <td>0.479101</td>\n",
       "      <td>0.344169</td>\n",
       "      <td>0.428336</td>\n",
       "      <td>1.000000</td>\n",
       "      <td>0.423170</td>\n",
       "    </tr>\n",
       "    <tr>\n",
       "      <th>Malignant</th>\n",
       "      <td>-0.080226</td>\n",
       "      <td>0.716001</td>\n",
       "      <td>0.817904</td>\n",
       "      <td>0.818934</td>\n",
       "      <td>0.696800</td>\n",
       "      <td>0.682785</td>\n",
       "      <td>0.756616</td>\n",
       "      <td>0.712244</td>\n",
       "      <td>0.423170</td>\n",
       "      <td>1.000000</td>\n",
       "    </tr>\n",
       "  </tbody>\n",
       "</table>\n",
       "</div>"
      ],
      "text/plain": [
       "                             Patient ID  Clump Thickness  \\\n",
       "Patient ID                     1.000000        -0.055308   \n",
       "Clump Thickness               -0.055308         1.000000   \n",
       "Uniformity of cell size       -0.041603         0.644913   \n",
       "Uniformity of Cell Shape      -0.041576         0.654589   \n",
       "Marginal Adhesion             -0.064878         0.486356   \n",
       "single epithilial cell size   -0.045528         0.521816   \n",
       "Bland Chromatin               -0.060051         0.558428   \n",
       "Normal Neucleoli              -0.052072         0.535835   \n",
       "Mitosis                       -0.034901         0.350034   \n",
       "Malignant                     -0.080226         0.716001   \n",
       "\n",
       "                             Uniformity of cell size  \\\n",
       "Patient ID                                 -0.041603   \n",
       "Clump Thickness                             0.644913   \n",
       "Uniformity of cell size                     1.000000   \n",
       "Uniformity of Cell Shape                    0.906882   \n",
       "Marginal Adhesion                           0.705582   \n",
       "single epithilial cell size                 0.751799   \n",
       "Bland Chromatin                             0.755721   \n",
       "Normal Neucleoli                            0.722865   \n",
       "Mitosis                                     0.458693   \n",
       "Malignant                                   0.817904   \n",
       "\n",
       "                             Uniformity of Cell Shape  Marginal Adhesion  \\\n",
       "Patient ID                                  -0.041576          -0.064878   \n",
       "Clump Thickness                              0.654589           0.486356   \n",
       "Uniformity of cell size                      0.906882           0.705582   \n",
       "Uniformity of Cell Shape                     1.000000           0.683079   \n",
       "Marginal Adhesion                            0.683079           1.000000   \n",
       "single epithilial cell size                  0.719668           0.599599   \n",
       "Bland Chromatin                              0.735948           0.666715   \n",
       "Normal Neucleoli                             0.719446           0.603352   \n",
       "Mitosis                                      0.438911           0.417633   \n",
       "Malignant                                    0.818934           0.696800   \n",
       "\n",
       "                             single epithilial cell size  Bland Chromatin  \\\n",
       "Patient ID                                     -0.045528        -0.060051   \n",
       "Clump Thickness                                 0.521816         0.558428   \n",
       "Uniformity of cell size                         0.751799         0.755721   \n",
       "Uniformity of Cell Shape                        0.719668         0.735948   \n",
       "Marginal Adhesion                               0.599599         0.666715   \n",
       "single epithilial cell size                     1.000000         0.616102   \n",
       "Bland Chromatin                                 0.616102         1.000000   \n",
       "Normal Neucleoli                                0.628881         0.665878   \n",
       "Mitosis                                         0.479101         0.344169   \n",
       "Malignant                                       0.682785         0.756616   \n",
       "\n",
       "                             Normal Neucleoli   Mitosis  Malignant  \n",
       "Patient ID                          -0.052072 -0.034901  -0.080226  \n",
       "Clump Thickness                      0.535835  0.350034   0.716001  \n",
       "Uniformity of cell size              0.722865  0.458693   0.817904  \n",
       "Uniformity of Cell Shape             0.719446  0.438911   0.818934  \n",
       "Marginal Adhesion                    0.603352  0.417633   0.696800  \n",
       "single epithilial cell size          0.628881  0.479101   0.682785  \n",
       "Bland Chromatin                      0.665878  0.344169   0.756616  \n",
       "Normal Neucleoli                     1.000000  0.428336   0.712244  \n",
       "Mitosis                              0.428336  1.000000   0.423170  \n",
       "Malignant                            0.712244  0.423170   1.000000  "
      ]
     },
     "execution_count": 9,
     "metadata": {},
     "output_type": "execute_result"
    }
   ],
   "source": [
    "data.corr()"
   ]
  },
  {
   "cell_type": "code",
   "execution_count": 17,
   "metadata": {},
   "outputs": [
    {
     "data": {
      "text/plain": [
       "<AxesSubplot:>"
      ]
     },
     "execution_count": 17,
     "metadata": {},
     "output_type": "execute_result"
    },
    {
     "data": {
      "image/png": "[encoded data removed]",
      "text/plain": [
       "<Figure size 432x288 with 2 Axes>"
      ]
     },
     "metadata": {
      "needs_background": "light"
     },
     "output_type": "display_data"
    }
   ],
   "source": [
    "sns.heatmap(data.corr())"
   ]
  },
  {
   "cell_type": "code",
   "execution_count": 131,
   "metadata": {},
   "outputs": [
    {
     "data": {
      "text/html": [
       "<div>\n",
       "<style scoped>\n",
       "    .dataframe tbody tr th:only-of-type {\n",
       "        vertical-align: middle;\n",
       "    }\n",
       "\n",
       "    .dataframe tbody tr th {\n",
       "        vertical-align: top;\n",
       "    }\n",
       "\n",
       "    .dataframe thead th {\n",
       "        text-align: right;\n",
       "    }\n",
       "</style>\n",
       "<table border=\"1\" class=\"dataframe\">\n",
       "  <thead>\n",
       "    <tr style=\"text-align: right;\">\n",
       "      <th></th>\n",
       "      <th>Patient ID</th>\n",
       "      <th>Clump Thickness</th>\n",
       "      <th>Uniformity of cell size</th>\n",
       "      <th>Uniformity of Cell Shape</th>\n",
       "      <th>Marginal Adhesion</th>\n",
       "      <th>single epithilial cell size</th>\n",
       "      <th>Bare Nuclei</th>\n",
       "      <th>Bland Chromatin</th>\n",
       "      <th>Normal Neucleoli</th>\n",
       "      <th>Mitosis</th>\n",
       "      <th>Malignant</th>\n",
       "    </tr>\n",
       "  </thead>\n",
       "  <tbody>\n",
       "    <tr>\n",
       "      <th>Patient ID</th>\n",
       "      <td>1.000000</td>\n",
       "      <td>-0.056350</td>\n",
       "      <td>-0.041396</td>\n",
       "      <td>-0.042221</td>\n",
       "      <td>-0.069630</td>\n",
       "      <td>-0.048644</td>\n",
       "      <td>-0.099248</td>\n",
       "      <td>-0.061966</td>\n",
       "      <td>-0.050699</td>\n",
       "      <td>-0.037972</td>\n",
       "      <td>-0.084701</td>\n",
       "    </tr>\n",
       "    <tr>\n",
       "      <th>Clump Thickness</th>\n",
       "      <td>-0.056350</td>\n",
       "      <td>1.000000</td>\n",
       "      <td>0.642481</td>\n",
       "      <td>0.653470</td>\n",
       "      <td>0.487829</td>\n",
       "      <td>0.523596</td>\n",
       "      <td>0.593091</td>\n",
       "      <td>0.553742</td>\n",
       "      <td>0.534066</td>\n",
       "      <td>0.350957</td>\n",
       "      <td>0.714790</td>\n",
       "    </tr>\n",
       "    <tr>\n",
       "      <th>Uniformity of cell size</th>\n",
       "      <td>-0.041396</td>\n",
       "      <td>0.642481</td>\n",
       "      <td>1.000000</td>\n",
       "      <td>0.907228</td>\n",
       "      <td>0.706977</td>\n",
       "      <td>0.753544</td>\n",
       "      <td>0.691709</td>\n",
       "      <td>0.755559</td>\n",
       "      <td>0.719346</td>\n",
       "      <td>0.460755</td>\n",
       "      <td>0.820801</td>\n",
       "    </tr>\n",
       "    <tr>\n",
       "      <th>Uniformity of Cell Shape</th>\n",
       "      <td>-0.042221</td>\n",
       "      <td>0.653470</td>\n",
       "      <td>0.907228</td>\n",
       "      <td>1.000000</td>\n",
       "      <td>0.685948</td>\n",
       "      <td>0.722462</td>\n",
       "      <td>0.713878</td>\n",
       "      <td>0.735344</td>\n",
       "      <td>0.717963</td>\n",
       "      <td>0.441258</td>\n",
       "      <td>0.821891</td>\n",
       "    </tr>\n",
       "    <tr>\n",
       "      <th>Marginal Adhesion</th>\n",
       "      <td>-0.069630</td>\n",
       "      <td>0.487829</td>\n",
       "      <td>0.706977</td>\n",
       "      <td>0.685948</td>\n",
       "      <td>1.000000</td>\n",
       "      <td>0.594548</td>\n",
       "      <td>0.670648</td>\n",
       "      <td>0.668567</td>\n",
       "      <td>0.603121</td>\n",
       "      <td>0.418898</td>\n",
       "      <td>0.706294</td>\n",
       "    </tr>\n",
       "    <tr>\n",
       "      <th>single epithilial cell size</th>\n",
       "      <td>-0.048644</td>\n",
       "      <td>0.523596</td>\n",
       "      <td>0.753544</td>\n",
       "      <td>0.722462</td>\n",
       "      <td>0.594548</td>\n",
       "      <td>1.000000</td>\n",
       "      <td>0.585716</td>\n",
       "      <td>0.618128</td>\n",
       "      <td>0.628926</td>\n",
       "      <td>0.480583</td>\n",
       "      <td>0.690958</td>\n",
       "    </tr>\n",
       "    <tr>\n",
       "      <th>Bare Nuclei</th>\n",
       "      <td>-0.099248</td>\n",
       "      <td>0.593091</td>\n",
       "      <td>0.691709</td>\n",
       "      <td>0.713878</td>\n",
       "      <td>0.670648</td>\n",
       "      <td>0.585716</td>\n",
       "      <td>1.000000</td>\n",
       "      <td>0.680615</td>\n",
       "      <td>0.584280</td>\n",
       "      <td>0.339210</td>\n",
       "      <td>0.822696</td>\n",
       "    </tr>\n",
       "    <tr>\n",
       "      <th>Bland Chromatin</th>\n",
       "      <td>-0.061966</td>\n",
       "      <td>0.553742</td>\n",
       "      <td>0.755559</td>\n",
       "      <td>0.735344</td>\n",
       "      <td>0.668567</td>\n",
       "      <td>0.618128</td>\n",
       "      <td>0.680615</td>\n",
       "      <td>1.000000</td>\n",
       "      <td>0.665602</td>\n",
       "      <td>0.346011</td>\n",
       "      <td>0.758228</td>\n",
       "    </tr>\n",
       "    <tr>\n",
       "      <th>Normal Neucleoli</th>\n",
       "      <td>-0.050699</td>\n",
       "      <td>0.534066</td>\n",
       "      <td>0.719346</td>\n",
       "      <td>0.717963</td>\n",
       "      <td>0.603121</td>\n",
       "      <td>0.628926</td>\n",
       "      <td>0.584280</td>\n",
       "      <td>0.665602</td>\n",
       "      <td>1.000000</td>\n",
       "      <td>0.433757</td>\n",
       "      <td>0.718677</td>\n",
       "    </tr>\n",
       "    <tr>\n",
       "      <th>Mitosis</th>\n",
       "      <td>-0.037972</td>\n",
       "      <td>0.350957</td>\n",
       "      <td>0.460755</td>\n",
       "      <td>0.441258</td>\n",
       "      <td>0.418898</td>\n",
       "      <td>0.480583</td>\n",
       "      <td>0.339210</td>\n",
       "      <td>0.346011</td>\n",
       "      <td>0.433757</td>\n",
       "      <td>1.000000</td>\n",
       "      <td>0.423448</td>\n",
       "    </tr>\n",
       "    <tr>\n",
       "      <th>Malignant</th>\n",
       "      <td>-0.084701</td>\n",
       "      <td>0.714790</td>\n",
       "      <td>0.820801</td>\n",
       "      <td>0.821891</td>\n",
       "      <td>0.706294</td>\n",
       "      <td>0.690958</td>\n",
       "      <td>0.822696</td>\n",
       "      <td>0.758228</td>\n",
       "      <td>0.718677</td>\n",
       "      <td>0.423448</td>\n",
       "      <td>1.000000</td>\n",
       "    </tr>\n",
       "  </tbody>\n",
       "</table>\n",
       "</div>"
      ],
      "text/plain": [
       "                             Patient ID  Clump Thickness  \\\n",
       "Patient ID                     1.000000        -0.056350   \n",
       "Clump Thickness               -0.056350         1.000000   \n",
       "Uniformity of cell size       -0.041396         0.642481   \n",
       "Uniformity of Cell Shape      -0.042221         0.653470   \n",
       "Marginal Adhesion             -0.069630         0.487829   \n",
       "single epithilial cell size   -0.048644         0.523596   \n",
       "Bare Nuclei                   -0.099248         0.593091   \n",
       "Bland Chromatin               -0.061966         0.553742   \n",
       "Normal Neucleoli              -0.050699         0.534066   \n",
       "Mitosis                       -0.037972         0.350957   \n",
       "Malignant                     -0.084701         0.714790   \n",
       "\n",
       "                             Uniformity of cell size  \\\n",
       "Patient ID                                 -0.041396   \n",
       "Clump Thickness                             0.642481   \n",
       "Uniformity of cell size                     1.000000   \n",
       "Uniformity of Cell Shape                    0.907228   \n",
       "Marginal Adhesion                           0.706977   \n",
       "single epithilial cell size                 0.753544   \n",
       "Bare Nuclei                                 0.691709   \n",
       "Bland Chromatin                             0.755559   \n",
       "Normal Neucleoli                            0.719346   \n",
       "Mitosis                                     0.460755   \n",
       "Malignant                                   0.820801   \n",
       "\n",
       "                             Uniformity of Cell Shape  Marginal Adhesion  \\\n",
       "Patient ID                                  -0.042221          -0.069630   \n",
       "Clump Thickness                              0.653470           0.487829   \n",
       "Uniformity of cell size                      0.907228           0.706977   \n",
       "Uniformity of Cell Shape                     1.000000           0.685948   \n",
       "Marginal Adhesion                            0.685948           1.000000   \n",
       "single epithilial cell size                  0.722462           0.594548   \n",
       "Bare Nuclei                                  0.713878           0.670648   \n",
       "Bland Chromatin                              0.735344           0.668567   \n",
       "Normal Neucleoli                             0.717963           0.603121   \n",
       "Mitosis                                      0.441258           0.418898   \n",
       "Malignant                                    0.821891           0.706294   \n",
       "\n",
       "                             single epithilial cell size  Bare Nuclei  \\\n",
       "Patient ID                                     -0.048644    -0.099248   \n",
       "Clump Thickness                                 0.523596     0.593091   \n",
       "Uniformity of cell size                         0.753544     0.691709   \n",
       "Uniformity of Cell Shape                        0.722462     0.713878   \n",
       "Marginal Adhesion                               0.594548     0.670648   \n",
       "single epithilial cell size                     1.000000     0.585716   \n",
       "Bare Nuclei                                     0.585716     1.000000   \n",
       "Bland Chromatin                                 0.618128     0.680615   \n",
       "Normal Neucleoli                                0.628926     0.584280   \n",
       "Mitosis                                         0.480583     0.339210   \n",
       "Malignant                                       0.690958     0.822696   \n",
       "\n",
       "                             Bland Chromatin  Normal Neucleoli   Mitosis  \\\n",
       "Patient ID                         -0.061966         -0.050699 -0.037972   \n",
       "Clump Thickness                     0.553742          0.534066  0.350957   \n",
       "Uniformity of cell size             0.755559          0.719346  0.460755   \n",
       "Uniformity of Cell Shape            0.735344          0.717963  0.441258   \n",
       "Marginal Adhesion                   0.668567          0.603121  0.418898   \n",
       "single epithilial cell size         0.618128          0.628926  0.480583   \n",
       "Bare Nuclei                         0.680615          0.584280  0.339210   \n",
       "Bland Chromatin                     1.000000          0.665602  0.346011   \n",
       "Normal Neucleoli                    0.665602          1.000000  0.433757   \n",
       "Mitosis                             0.346011          0.433757  1.000000   \n",
       "Malignant                           0.758228          0.718677  0.423448   \n",
       "\n",
       "                             Malignant  \n",
       "Patient ID                   -0.084701  \n",
       "Clump Thickness               0.714790  \n",
       "Uniformity of cell size       0.820801  \n",
       "Uniformity of Cell Shape      0.821891  \n",
       "Marginal Adhesion             0.706294  \n",
       "single epithilial cell size   0.690958  \n",
       "Bare Nuclei                   0.822696  \n",
       "Bland Chromatin               0.758228  \n",
       "Normal Neucleoli              0.718677  \n",
       "Mitosis                       0.423448  \n",
       "Malignant                     1.000000  "
      ]
     },
     "execution_count": 131,
     "metadata": {},
     "output_type": "execute_result"
    }
   ],
   "source": [
    "dropped_qmarks.corr()"
   ]
  },
  {
   "cell_type": "code",
   "execution_count": 132,
   "metadata": {},
   "outputs": [
    {
     "data": {
      "text/plain": [
       "<AxesSubplot:>"
      ]
     },
     "execution_count": 132,
     "metadata": {},
     "output_type": "execute_result"
    },
    {
     "data": {
      "image/png": "[encoded data removed]",
      "text/plain": [
       "<Figure size 432x288 with 2 Axes>"
      ]
     },
     "metadata": {
      "needs_background": "light"
     },
     "output_type": "display_data"
    }
   ],
   "source": [
    "sns.heatmap(dropped_qmarks.corr())"
   ]
  },
  {
   "cell_type": "code",
   "execution_count": 27,
   "metadata": {},
   "outputs": [
    {
     "data": {
      "text/plain": [
       "Patient ID                      int64\n",
       "Clump Thickness                 int64\n",
       "Uniformity of cell size         int64\n",
       "Uniformity of Cell Shape        int64\n",
       "Marginal Adhesion               int64\n",
       "single epithilial cell size     int64\n",
       "Bare Nuclei                    object\n",
       "Bland Chromatin                 int64\n",
       "Normal Neucleoli                int64\n",
       "Mitosis                         int64\n",
       "Malignant                       int64\n",
       "dtype: object"
      ]
     },
     "execution_count": 27,
     "metadata": {},
     "output_type": "execute_result"
    }
   ],
   "source": [
    "data.dtypes"
   ]
  },
  {
   "cell_type": "code",
   "execution_count": 33,
   "metadata": {},
   "outputs": [
    {
     "data": {
      "text/plain": [
       "<AxesSubplot:xlabel='Uniformity of cell size', ylabel='Uniformity of Cell Shape'>"
      ]
     },
     "execution_count": 33,
     "metadata": {},
     "output_type": "execute_result"
    },
    {
     "data": {
      "image/png": "[encoded data removed]",
      "text/plain": [
       "<Figure size 432x288 with 1 Axes>"
      ]
     },
     "metadata": {
      "needs_background": "light"
     },
     "output_type": "display_data"
    }
   ],
   "source": [
    "uniformity_group = data[['Uniformity of cell size' ,'Uniformity of Cell Shape', 'Malignant']]\n",
    "ax = uniformity_group[uniformity_group.Malignant == 1].plot(kind = 'scatter', x = 'Uniformity of cell size', y = 'Uniformity of Cell Shape', label = 'Malignant', c = 'red')\n",
    "uniformity_group[uniformity_group.Malignant == 0].plot(kind = 'scatter', x = 'Uniformity of cell size', y = 'Uniformity of Cell Shape', label = 'Benign', c = 'green', ax = ax)\n"
   ]
  },
  {
   "cell_type": "markdown",
   "metadata": {},
   "source": [
    "from this we conclude that the greater the uniformity the more likely it is for a cell to have malignant cancer and we will therefore put it into out model. "
   ]
  },
  {
   "cell_type": "code",
   "execution_count": 37,
   "metadata": {},
   "outputs": [
    {
     "data": {
      "text/plain": [
       "<matplotlib.legend.Legend at 0x7f930845d250>"
      ]
     },
     "execution_count": 37,
     "metadata": {},
     "output_type": "execute_result"
    },
    {
     "data": {
      "image/png": "[encoded data removed]",
      "text/plain": [
       "<Figure size 432x288 with 1 Axes>"
      ]
     },
     "metadata": {
      "needs_background": "light"
     },
     "output_type": "display_data"
    }
   ],
   "source": [
    "bland_data = data[['Bland Chromatin', 'Normal Neucleoli', 'Malignant']]\n",
    "ax = bland_data[bland_data['Malignant'] == 1].plot(kind = 'scatter', x = 'Bland Chromatin', y = 'Normal Neucleoli', label = 'Malignant', c = 'red')\n",
    "bland_data[bland_data['Malignant'] == 0].plot(ax = ax, kind = 'scatter', x = 'Bland Chromatin', y = 'Normal Neucleoli', label = 'Benign', c = 'green')\n",
    "plt.legend(loc = 'upper right')"
   ]
  },
  {
   "cell_type": "code",
   "execution_count": 40,
   "metadata": {},
   "outputs": [
    {
     "data": {
      "text/html": [
       "<div>\n",
       "<style scoped>\n",
       "    .dataframe tbody tr th:only-of-type {\n",
       "        vertical-align: middle;\n",
       "    }\n",
       "\n",
       "    .dataframe tbody tr th {\n",
       "        vertical-align: top;\n",
       "    }\n",
       "\n",
       "    .dataframe thead th {\n",
       "        text-align: right;\n",
       "    }\n",
       "</style>\n",
       "<table border=\"1\" class=\"dataframe\">\n",
       "  <thead>\n",
       "    <tr style=\"text-align: right;\">\n",
       "      <th></th>\n",
       "      <th>Patient ID</th>\n",
       "      <th>Clump Thickness</th>\n",
       "      <th>Uniformity of cell size</th>\n",
       "      <th>Uniformity of Cell Shape</th>\n",
       "      <th>Marginal Adhesion</th>\n",
       "      <th>single epithilial cell size</th>\n",
       "      <th>Bland Chromatin</th>\n",
       "      <th>Normal Neucleoli</th>\n",
       "      <th>Mitosis</th>\n",
       "    </tr>\n",
       "    <tr>\n",
       "      <th>Malignant</th>\n",
       "      <th></th>\n",
       "      <th></th>\n",
       "      <th></th>\n",
       "      <th></th>\n",
       "      <th></th>\n",
       "      <th></th>\n",
       "      <th></th>\n",
       "      <th></th>\n",
       "      <th></th>\n",
       "    </tr>\n",
       "  </thead>\n",
       "  <tbody>\n",
       "    <tr>\n",
       "      <th>0</th>\n",
       "      <td>1.107591e+06</td>\n",
       "      <td>2.956332</td>\n",
       "      <td>1.325328</td>\n",
       "      <td>1.443231</td>\n",
       "      <td>1.364629</td>\n",
       "      <td>2.120087</td>\n",
       "      <td>2.100437</td>\n",
       "      <td>1.290393</td>\n",
       "      <td>1.063319</td>\n",
       "    </tr>\n",
       "    <tr>\n",
       "      <th>1</th>\n",
       "      <td>1.003505e+06</td>\n",
       "      <td>7.195021</td>\n",
       "      <td>6.572614</td>\n",
       "      <td>6.560166</td>\n",
       "      <td>5.547718</td>\n",
       "      <td>5.298755</td>\n",
       "      <td>5.979253</td>\n",
       "      <td>5.863071</td>\n",
       "      <td>2.589212</td>\n",
       "    </tr>\n",
       "  </tbody>\n",
       "</table>\n",
       "</div>"
      ],
      "text/plain": [
       "             Patient ID  Clump Thickness  Uniformity of cell size  \\\n",
       "Malignant                                                           \n",
       "0          1.107591e+06         2.956332                 1.325328   \n",
       "1          1.003505e+06         7.195021                 6.572614   \n",
       "\n",
       "           Uniformity of Cell Shape  Marginal Adhesion  \\\n",
       "Malignant                                                \n",
       "0                          1.443231           1.364629   \n",
       "1                          6.560166           5.547718   \n",
       "\n",
       "           single epithilial cell size  Bland Chromatin  Normal Neucleoli  \\\n",
       "Malignant                                                                   \n",
       "0                             2.120087         2.100437          1.290393   \n",
       "1                             5.298755         5.979253          5.863071   \n",
       "\n",
       "            Mitosis  \n",
       "Malignant            \n",
       "0          1.063319  \n",
       "1          2.589212  "
      ]
     },
     "execution_count": 40,
     "metadata": {},
     "output_type": "execute_result"
    }
   ],
   "source": [
    "malignant_group_means = data.groupby('Malignant').mean()\n",
    "malignant_group_means"
   ]
  },
  {
   "cell_type": "code",
   "execution_count": 52,
   "metadata": {},
   "outputs": [
    {
     "name": "stdout",
     "output_type": "stream",
     "text": [
      "Significance of Clump Thickness:F_onewayResult(statistic=733.2069784130817, pvalue=6.835565528041274e-111)\n",
      "Significance of Uniformity of cell size:F_onewayResult(statistic=1408.527212789459, pvalue=1.747924499906127e-169)\n",
      "Significance of Uniformity of Cell Shape:F_onewayResult(statistic=1419.3055301235904, pvalue=2.94562115784822e-170)\n",
      "Significance of Marginal Adhesion:F_onewayResult(statistic=657.7936995867384, pvalue=1.1097566828535813e-102)\n",
      "Significance of single epithilial cell size:F_onewayResult(statistic=608.7195553871196, pvalue=4.346160495522652e-97)\n",
      "Significance of Bland Chromatin:F_onewayResult(statistic=933.2872966815166, pvalue=9.849140270228689e-131)\n",
      "Significance of Normal Neucleoli:F_onewayResult(statistic=717.6280413528013, pvalue=3.124155254339221e-109)\n",
      "Significance of Mitosis:F_onewayResult(statistic=152.0402389459221, pvalue=9.682098004464964e-32)\n"
     ]
    }
   ],
   "source": [
    "import scipy.stats\n",
    "\n",
    "for column in ['Clump Thickness', \n",
    "               'Uniformity of cell size','Uniformity of Cell Shape', \n",
    "               'Marginal Adhesion','single epithilial cell size', \n",
    "               'Bland Chromatin','Normal Neucleoli', \n",
    "               'Mitosis']:\n",
    "    df_anova = data[['Malignant', column]]\n",
    "    grouped_anova = df_anova.groupby(by = 'Malignant')\n",
    "    anova_results = scipy.stats.f_oneway(grouped_anova.get_group(1)[column] , grouped_anova.get_group(0)[column])\n",
    "    print('Significance of {}:{}'.format(column,anova_results))"
   ]
  },
  {
   "cell_type": "code",
   "execution_count": 41,
   "metadata": {},
   "outputs": [
    {
     "data": {
      "text/plain": [
       "Index(['Patient ID', 'Clump Thickness', 'Uniformity of cell size',\n",
       "       'Uniformity of Cell Shape', 'Marginal Adhesion',\n",
       "       'single epithilial cell size', 'Bare Nuclei', 'Bland Chromatin',\n",
       "       'Normal Neucleoli', 'Mitosis', 'Malignant'],\n",
       "      dtype='object')"
      ]
     },
     "execution_count": 41,
     "metadata": {},
     "output_type": "execute_result"
    }
   ],
   "source": [
    "data.columns"
   ]
  },
  {
   "cell_type": "code",
   "execution_count": 115,
   "metadata": {},
   "outputs": [
    {
     "name": "stdout",
     "output_type": "stream",
     "text": [
      "Significance of Clump Thickness:F_onewayResult(statistic=711.4234463367795, pvalue=7.292503838464051e-108)\n",
      "Significance of Uniformity of cell size:F_onewayResult(statistic=1406.1324695730186, pvalue=8.922226282440144e-168)\n",
      "Significance of Uniformity of Cell Shape:F_onewayResult(statistic=1417.6438408647628, pvalue=1.369424922928629e-168)\n",
      "Significance of Marginal Adhesion:F_onewayResult(statistic=677.8784002849594, pvalue=2.979777609009219e-104)\n",
      "Significance of single epithilial cell size:F_onewayResult(statistic=622.1576809790222, pvalue=4.733539740953408e-98)\n",
      "Significance of Bland Chromatin:F_onewayResult(statistic=921.0100147383681, pvalue=1.2677117916819452e-128)\n",
      "Significance of Normal Neucleoli:F_onewayResult(statistic=727.4708050995358, pvalue=1.465645368096511e-109)\n",
      "Significance of Mitosis:F_onewayResult(statistic=148.78768876839, pvalue=4.304039950942339e-31)\n",
      "Significance of Bare Nuclei:F_onewayResult(statistic=1426.2402697371174, pvalue=3.401103273242638e-169)\n"
     ]
    }
   ],
   "source": [
    "import scipy.stats\n",
    "\n",
    "for column in ['Clump Thickness', \n",
    "               'Uniformity of cell size','Uniformity of Cell Shape', \n",
    "               'Marginal Adhesion','single epithilial cell size', \n",
    "               'Bland Chromatin','Normal Neucleoli', \n",
    "               'Mitosis', 'Bare Nuclei']:\n",
    "    df_anova = dropped_qmarks[['Malignant', column]]\n",
    "    grouped_anova = df_anova.groupby(by = 'Malignant')\n",
    "    anova_results = scipy.stats.f_oneway(grouped_anova.get_group(1)[column] , grouped_anova.get_group(0)[column])\n",
    "    print('Significance of {}:{}'.format(column,anova_results))"
   ]
  },
  {
   "cell_type": "markdown",
   "metadata": {},
   "source": [
    "from this we can actually conclude that bare nuclei has the biggest significance in terms of relating to cell malignance, we should therefore use bare Nuclei as a factor in out analysis.  "
   ]
  },
  {
   "cell_type": "code",
   "execution_count": 126,
   "metadata": {},
   "outputs": [
    {
     "name": "stderr",
     "output_type": "stream",
     "text": [
      "/opt/anaconda3/lib/python3.8/site-packages/seaborn/distributions.py:2551: FutureWarning: `distplot` is a deprecated function and will be removed in a future version. Please adapt your code to use either `displot` (a figure-level function with similar flexibility) or `histplot` (an axes-level function for histograms).\n",
      "  warnings.warn(msg, FutureWarning)\n",
      "/opt/anaconda3/lib/python3.8/site-packages/seaborn/distributions.py:2551: FutureWarning: `distplot` is a deprecated function and will be removed in a future version. Please adapt your code to use either `displot` (a figure-level function with similar flexibility) or `histplot` (an axes-level function for histograms).\n",
      "  warnings.warn(msg, FutureWarning)\n"
     ]
    },
    {
     "data": {
      "text/plain": [
       "<matplotlib.legend.Legend at 0x7f9318462fa0>"
      ]
     },
     "execution_count": 126,
     "metadata": {},
     "output_type": "execute_result"
    },
    {
     "data": {
      "image/png": "[encoded data removed]",
      "text/plain": [
       "<Figure size 432x288 with 1 Axes>"
      ]
     },
     "metadata": {
      "needs_background": "light"
     },
     "output_type": "display_data"
    }
   ],
   "source": [
    "ax = sns.distplot(data['Uniformity of cell size'], label = 'Size')\n",
    "sns.distplot(data['Uniformity of Cell Shape'], ax =ax, label = 'Shape')\n",
    "plt.legend()"
   ]
  },
  {
   "cell_type": "code",
   "execution_count": 133,
   "metadata": {},
   "outputs": [
    {
     "name": "stderr",
     "output_type": "stream",
     "text": [
      "/opt/anaconda3/lib/python3.8/site-packages/seaborn/distributions.py:2551: FutureWarning: `distplot` is a deprecated function and will be removed in a future version. Please adapt your code to use either `displot` (a figure-level function with similar flexibility) or `histplot` (an axes-level function for histograms).\n",
      "  warnings.warn(msg, FutureWarning)\n",
      "/opt/anaconda3/lib/python3.8/site-packages/seaborn/distributions.py:2551: FutureWarning: `distplot` is a deprecated function and will be removed in a future version. Please adapt your code to use either `displot` (a figure-level function with similar flexibility) or `histplot` (an axes-level function for histograms).\n",
      "  warnings.warn(msg, FutureWarning)\n"
     ]
    },
    {
     "data": {
      "text/plain": [
       "<matplotlib.legend.Legend at 0x7f9328de3a00>"
      ]
     },
     "execution_count": 133,
     "metadata": {},
     "output_type": "execute_result"
    },
    {
     "data": {
      "image/png": "[encoded data removed]",
      "text/plain": [
       "<Figure size 432x288 with 1 Axes>"
      ]
     },
     "metadata": {
      "needs_background": "light"
     },
     "output_type": "display_data"
    }
   ],
   "source": [
    "ax = sns.distplot(data['Clump Thickness'], label = 'Thickness')\n",
    "sns.distplot(dropped_qmarks['Bare Nuclei'], ax =ax, label = 'Bare Nuclei')\n",
    "plt.legend()"
   ]
  },
  {
   "cell_type": "markdown",
   "metadata": {},
   "source": [
    "The top variables to have an influence on malignancy are Bare Nuclei, both uniformity of shape and size and finally, presence of bland chromatin"
   ]
  },
  {
   "cell_type": "code",
   "execution_count": 151,
   "metadata": {},
   "outputs": [
    {
     "name": "stderr",
     "output_type": "stream",
     "text": [
      "/opt/anaconda3/lib/python3.8/site-packages/seaborn/distributions.py:2551: FutureWarning: `distplot` is a deprecated function and will be removed in a future version. Please adapt your code to use either `displot` (a figure-level function with similar flexibility) or `histplot` (an axes-level function for histograms).\n",
      "  warnings.warn(msg, FutureWarning)\n",
      "/opt/anaconda3/lib/python3.8/site-packages/seaborn/distributions.py:2551: FutureWarning: `distplot` is a deprecated function and will be removed in a future version. Please adapt your code to use either `displot` (a figure-level function with similar flexibility) or `histplot` (an axes-level function for histograms).\n",
      "  warnings.warn(msg, FutureWarning)\n"
     ]
    },
    {
     "data": {
      "text/plain": [
       "<matplotlib.legend.Legend at 0x7f92fd5aad60>"
      ]
     },
     "execution_count": 151,
     "metadata": {},
     "output_type": "execute_result"
    },
    {
     "data": {
      "image/png": "[encoded data removed]",
      "text/plain": [
       "<Figure size 432x288 with 1 Axes>"
      ]
     },
     "metadata": {
      "needs_background": "light"
     },
     "output_type": "display_data"
    }
   ],
   "source": [
    "ax = sns.distplot(dropped_qmarks[dropped_qmarks['Malignant'] == 1]['Bare Nuclei'], label = 'Malignant')\n",
    "sns.distplot(dropped_qmarks[dropped_qmarks['Malignant'] == 0]['Bare Nuclei'], label = 'Benign')\n",
    "plt.legend()"
   ]
  },
  {
   "cell_type": "code",
   "execution_count": 154,
   "metadata": {},
   "outputs": [
    {
     "name": "stderr",
     "output_type": "stream",
     "text": [
      "/opt/anaconda3/lib/python3.8/site-packages/seaborn/distributions.py:2551: FutureWarning: `distplot` is a deprecated function and will be removed in a future version. Please adapt your code to use either `displot` (a figure-level function with similar flexibility) or `histplot` (an axes-level function for histograms).\n",
      "  warnings.warn(msg, FutureWarning)\n",
      "/opt/anaconda3/lib/python3.8/site-packages/seaborn/distributions.py:2551: FutureWarning: `distplot` is a deprecated function and will be removed in a future version. Please adapt your code to use either `displot` (a figure-level function with similar flexibility) or `histplot` (an axes-level function for histograms).\n",
      "  warnings.warn(msg, FutureWarning)\n"
     ]
    },
    {
     "data": {
      "text/plain": [
       "<matplotlib.legend.Legend at 0x7f92fdff7e50>"
      ]
     },
     "execution_count": 154,
     "metadata": {},
     "output_type": "execute_result"
    },
    {
     "data": {
      "image/png": "[encoded data removed]",
      "text/plain": [
       "<Figure size 432x288 with 1 Axes>"
      ]
     },
     "metadata": {
      "needs_background": "light"
     },
     "output_type": "display_data"
    }
   ],
   "source": [
    "ax = sns.distplot(dropped_qmarks[dropped_qmarks['Malignant'] == 1]['Clump Thickness'], label = 'Malignant')\n",
    "sns.distplot(dropped_qmarks[dropped_qmarks['Malignant'] == 0]['Clump Thickness'], label = 'Benign')\n",
    "plt.legend()"
   ]
  },
  {
   "cell_type": "code",
   "execution_count": 172,
   "metadata": {},
   "outputs": [
    {
     "name": "stderr",
     "output_type": "stream",
     "text": [
      "/opt/anaconda3/lib/python3.8/site-packages/seaborn/distributions.py:2551: FutureWarning: `distplot` is a deprecated function and will be removed in a future version. Please adapt your code to use either `displot` (a figure-level function with similar flexibility) or `histplot` (an axes-level function for histograms).\n",
      "  warnings.warn(msg, FutureWarning)\n",
      "/opt/anaconda3/lib/python3.8/site-packages/seaborn/distributions.py:2551: FutureWarning: `distplot` is a deprecated function and will be removed in a future version. Please adapt your code to use either `displot` (a figure-level function with similar flexibility) or `histplot` (an axes-level function for histograms).\n",
      "  warnings.warn(msg, FutureWarning)\n"
     ]
    },
    {
     "data": {
      "text/plain": [
       "<matplotlib.legend.Legend at 0x7f92e00c5f10>"
      ]
     },
     "execution_count": 172,
     "metadata": {},
     "output_type": "execute_result"
    },
    {
     "data": {
      "image/png": "[encoded data removed]",
      "text/plain": [
       "<Figure size 432x288 with 1 Axes>"
      ]
     },
     "metadata": {
      "needs_background": "light"
     },
     "output_type": "display_data"
    }
   ],
   "source": [
    "ax = sns.distplot(dropped_qmarks[dropped_qmarks['Malignant'] == 1]['Bland Chromatin'], label = 'Malignant')\n",
    "sns.distplot(dropped_qmarks[dropped_qmarks['Malignant'] == 0]['Bland Chromatin'], label = 'Benign')\n",
    "plt.legend()"
   ]
  },
  {
   "cell_type": "markdown",
   "metadata": {},
   "source": [
    "showcased will be a logistic regression, a k nearest neighbors and a support vector machine"
   ]
  },
  {
   "cell_type": "markdown",
   "metadata": {},
   "source": [
    "<h1> LINEAR REGRESSION </h1>"
   ]
  },
  {
   "cell_type": "code",
   "execution_count": 134,
   "metadata": {},
   "outputs": [
    {
     "data": {
      "text/html": [
       "<div>\n",
       "<style scoped>\n",
       "    .dataframe tbody tr th:only-of-type {\n",
       "        vertical-align: middle;\n",
       "    }\n",
       "\n",
       "    .dataframe tbody tr th {\n",
       "        vertical-align: top;\n",
       "    }\n",
       "\n",
       "    .dataframe thead th {\n",
       "        text-align: right;\n",
       "    }\n",
       "</style>\n",
       "<table border=\"1\" class=\"dataframe\">\n",
       "  <thead>\n",
       "    <tr style=\"text-align: right;\">\n",
       "      <th></th>\n",
       "      <th>Patient ID</th>\n",
       "      <th>Clump Thickness</th>\n",
       "      <th>Uniformity of cell size</th>\n",
       "      <th>Uniformity of Cell Shape</th>\n",
       "      <th>Marginal Adhesion</th>\n",
       "      <th>single epithilial cell size</th>\n",
       "      <th>Bare Nuclei</th>\n",
       "      <th>Bland Chromatin</th>\n",
       "      <th>Normal Neucleoli</th>\n",
       "      <th>Mitosis</th>\n",
       "      <th>Malignant</th>\n",
       "    </tr>\n",
       "  </thead>\n",
       "  <tbody>\n",
       "    <tr>\n",
       "      <th>0</th>\n",
       "      <td>1000025</td>\n",
       "      <td>5</td>\n",
       "      <td>1</td>\n",
       "      <td>1</td>\n",
       "      <td>1</td>\n",
       "      <td>2</td>\n",
       "      <td>1</td>\n",
       "      <td>3</td>\n",
       "      <td>1</td>\n",
       "      <td>1</td>\n",
       "      <td>0</td>\n",
       "    </tr>\n",
       "    <tr>\n",
       "      <th>1</th>\n",
       "      <td>1002945</td>\n",
       "      <td>5</td>\n",
       "      <td>4</td>\n",
       "      <td>4</td>\n",
       "      <td>5</td>\n",
       "      <td>7</td>\n",
       "      <td>10</td>\n",
       "      <td>3</td>\n",
       "      <td>2</td>\n",
       "      <td>1</td>\n",
       "      <td>0</td>\n",
       "    </tr>\n",
       "    <tr>\n",
       "      <th>2</th>\n",
       "      <td>1015425</td>\n",
       "      <td>3</td>\n",
       "      <td>1</td>\n",
       "      <td>1</td>\n",
       "      <td>1</td>\n",
       "      <td>2</td>\n",
       "      <td>2</td>\n",
       "      <td>3</td>\n",
       "      <td>1</td>\n",
       "      <td>1</td>\n",
       "      <td>0</td>\n",
       "    </tr>\n",
       "    <tr>\n",
       "      <th>3</th>\n",
       "      <td>1016277</td>\n",
       "      <td>6</td>\n",
       "      <td>8</td>\n",
       "      <td>8</td>\n",
       "      <td>1</td>\n",
       "      <td>3</td>\n",
       "      <td>4</td>\n",
       "      <td>3</td>\n",
       "      <td>7</td>\n",
       "      <td>1</td>\n",
       "      <td>0</td>\n",
       "    </tr>\n",
       "    <tr>\n",
       "      <th>4</th>\n",
       "      <td>1017023</td>\n",
       "      <td>4</td>\n",
       "      <td>1</td>\n",
       "      <td>1</td>\n",
       "      <td>3</td>\n",
       "      <td>2</td>\n",
       "      <td>1</td>\n",
       "      <td>3</td>\n",
       "      <td>1</td>\n",
       "      <td>1</td>\n",
       "      <td>0</td>\n",
       "    </tr>\n",
       "    <tr>\n",
       "      <th>...</th>\n",
       "      <td>...</td>\n",
       "      <td>...</td>\n",
       "      <td>...</td>\n",
       "      <td>...</td>\n",
       "      <td>...</td>\n",
       "      <td>...</td>\n",
       "      <td>...</td>\n",
       "      <td>...</td>\n",
       "      <td>...</td>\n",
       "      <td>...</td>\n",
       "      <td>...</td>\n",
       "    </tr>\n",
       "    <tr>\n",
       "      <th>694</th>\n",
       "      <td>776715</td>\n",
       "      <td>3</td>\n",
       "      <td>1</td>\n",
       "      <td>1</td>\n",
       "      <td>1</td>\n",
       "      <td>3</td>\n",
       "      <td>2</td>\n",
       "      <td>1</td>\n",
       "      <td>1</td>\n",
       "      <td>1</td>\n",
       "      <td>0</td>\n",
       "    </tr>\n",
       "    <tr>\n",
       "      <th>695</th>\n",
       "      <td>841769</td>\n",
       "      <td>2</td>\n",
       "      <td>1</td>\n",
       "      <td>1</td>\n",
       "      <td>1</td>\n",
       "      <td>2</td>\n",
       "      <td>1</td>\n",
       "      <td>1</td>\n",
       "      <td>1</td>\n",
       "      <td>1</td>\n",
       "      <td>0</td>\n",
       "    </tr>\n",
       "    <tr>\n",
       "      <th>696</th>\n",
       "      <td>888820</td>\n",
       "      <td>5</td>\n",
       "      <td>10</td>\n",
       "      <td>10</td>\n",
       "      <td>3</td>\n",
       "      <td>7</td>\n",
       "      <td>3</td>\n",
       "      <td>8</td>\n",
       "      <td>10</td>\n",
       "      <td>2</td>\n",
       "      <td>1</td>\n",
       "    </tr>\n",
       "    <tr>\n",
       "      <th>697</th>\n",
       "      <td>897471</td>\n",
       "      <td>4</td>\n",
       "      <td>8</td>\n",
       "      <td>6</td>\n",
       "      <td>4</td>\n",
       "      <td>3</td>\n",
       "      <td>4</td>\n",
       "      <td>10</td>\n",
       "      <td>6</td>\n",
       "      <td>1</td>\n",
       "      <td>1</td>\n",
       "    </tr>\n",
       "    <tr>\n",
       "      <th>698</th>\n",
       "      <td>897471</td>\n",
       "      <td>4</td>\n",
       "      <td>8</td>\n",
       "      <td>8</td>\n",
       "      <td>5</td>\n",
       "      <td>4</td>\n",
       "      <td>5</td>\n",
       "      <td>10</td>\n",
       "      <td>4</td>\n",
       "      <td>1</td>\n",
       "      <td>1</td>\n",
       "    </tr>\n",
       "  </tbody>\n",
       "</table>\n",
       "<p>683 rows × 11 columns</p>\n",
       "</div>"
      ],
      "text/plain": [
       "     Patient ID  Clump Thickness  Uniformity of cell size  \\\n",
       "0       1000025                5                        1   \n",
       "1       1002945                5                        4   \n",
       "2       1015425                3                        1   \n",
       "3       1016277                6                        8   \n",
       "4       1017023                4                        1   \n",
       "..          ...              ...                      ...   \n",
       "694      776715                3                        1   \n",
       "695      841769                2                        1   \n",
       "696      888820                5                       10   \n",
       "697      897471                4                        8   \n",
       "698      897471                4                        8   \n",
       "\n",
       "     Uniformity of Cell Shape  Marginal Adhesion  single epithilial cell size  \\\n",
       "0                           1                  1                            2   \n",
       "1                           4                  5                            7   \n",
       "2                           1                  1                            2   \n",
       "3                           8                  1                            3   \n",
       "4                           1                  3                            2   \n",
       "..                        ...                ...                          ...   \n",
       "694                         1                  1                            3   \n",
       "695                         1                  1                            2   \n",
       "696                        10                  3                            7   \n",
       "697                         6                  4                            3   \n",
       "698                         8                  5                            4   \n",
       "\n",
       "     Bare Nuclei  Bland Chromatin  Normal Neucleoli  Mitosis  Malignant  \n",
       "0              1                3                 1        1          0  \n",
       "1             10                3                 2        1          0  \n",
       "2              2                3                 1        1          0  \n",
       "3              4                3                 7        1          0  \n",
       "4              1                3                 1        1          0  \n",
       "..           ...              ...               ...      ...        ...  \n",
       "694            2                1                 1        1          0  \n",
       "695            1                1                 1        1          0  \n",
       "696            3                8                10        2          1  \n",
       "697            4               10                 6        1          1  \n",
       "698            5               10                 4        1          1  \n",
       "\n",
       "[683 rows x 11 columns]"
      ]
     },
     "execution_count": 134,
     "metadata": {},
     "output_type": "execute_result"
    }
   ],
   "source": [
    "cancer_data = dropped_qmarks.copy()\n",
    "cancer_data"
   ]
  },
  {
   "cell_type": "code",
   "execution_count": 169,
   "metadata": {},
   "outputs": [
    {
     "name": "stdout",
     "output_type": "stream",
     "text": [
      "Jaccard: 0.8571428571428571\n",
      "Accuracy: 0.9416058394160584\n",
      "log loss: 0.37394900405314874\n",
      "Cross Validated Score:  0.9633699633699634\n",
      "\n",
      " Coefficients: [[ 0.2372958   0.08952834  0.24003885 -0.23043659]]\n",
      "Intercept:  [-0.8857073]\n"
     ]
    }
   ],
   "source": [
    "x_data = cancer_data[['Uniformity of cell size','Uniformity of Cell Shape','Bare Nuclei', 'Bland Chromatin']]\n",
    "y_data = cancer_data.Malignant\n",
    "\n",
    "\n",
    "from sklearn.model_selection import train_test_split\n",
    "x_train , x_test , y_train , y_test = train_test_split(x_data , y_data , test_size = 0.2 , random_state = 0)\n",
    "\n",
    "from sklearn.linear_model import LogisticRegression\n",
    "model = LogisticRegression(C = 0.01 , solver = 'liblinear').fit(x_train , y_train)\n",
    "\n",
    "yhat = model.predict(x_test)\n",
    "yhat_prob = model.predict_proba(x_test)\n",
    "\n",
    "from sklearn.metrics import jaccard_score\n",
    "print('Jaccard:',jaccard_score(y_test, yhat))\n",
    "from sklearn.metrics import accuracy_score\n",
    "print('Accuracy:',accuracy_score(y_test, yhat))\n",
    "from sklearn.metrics import log_loss\n",
    "print('log loss:',log_loss(y_test,yhat_prob))\n",
    "\n",
    "from sklearn.model_selection import cross_val_score\n",
    "\n",
    "scores = cross_val_score(LogisticRegression() , x_train, y_train , cv = 3, scoring = 'accuracy')\n",
    "print('Cross Validated Score: ',np.mean(scores))\n",
    "\n",
    "print('\\n' ,'Coefficients:', model.coef_)\n",
    "print('Intercept: ',model.intercept_)\n"
   ]
  },
  {
   "cell_type": "code",
   "execution_count": 170,
   "metadata": {},
   "outputs": [
    {
     "name": "stdout",
     "output_type": "stream",
     "text": [
      "Optimization terminated successfully.\n",
      "         Current function value: 0.533303\n",
      "         Iterations 7\n"
     ]
    },
    {
     "data": {
      "text/html": [
       "<table class=\"simpletable\">\n",
       "<caption>Logit Regression Results</caption>\n",
       "<tr>\n",
       "  <th>Dep. Variable:</th>       <td>Malignant</td>    <th>  No. Observations:  </th>  <td>   546</td>  \n",
       "</tr>\n",
       "<tr>\n",
       "  <th>Model:</th>                 <td>Logit</td>      <th>  Df Residuals:      </th>  <td>   542</td>  \n",
       "</tr>\n",
       "<tr>\n",
       "  <th>Method:</th>                 <td>MLE</td>       <th>  Df Model:          </th>  <td>     3</td>  \n",
       "</tr>\n",
       "<tr>\n",
       "  <th>Date:</th>            <td>Wed, 20 Jan 2021</td> <th>  Pseudo R-squ.:     </th>  <td>0.1732</td>  \n",
       "</tr>\n",
       "<tr>\n",
       "  <th>Time:</th>                <td>19:23:35</td>     <th>  Log-Likelihood:    </th> <td> -291.18</td> \n",
       "</tr>\n",
       "<tr>\n",
       "  <th>converged:</th>             <td>True</td>       <th>  LL-Null:           </th> <td> -352.19</td> \n",
       "</tr>\n",
       "<tr>\n",
       "  <th>Covariance Type:</th>     <td>nonrobust</td>    <th>  LLR p-value:       </th> <td>2.848e-26</td>\n",
       "</tr>\n",
       "</table>\n",
       "<table class=\"simpletable\">\n",
       "<tr>\n",
       "              <td></td>                <th>coef</th>     <th>std err</th>      <th>z</th>      <th>P>|z|</th>  <th>[0.025</th>    <th>0.975]</th>  \n",
       "</tr>\n",
       "<tr>\n",
       "  <th>Uniformity of cell size</th>  <td>    0.5480</td> <td>    0.105</td> <td>    5.238</td> <td> 0.000</td> <td>    0.343</td> <td>    0.753</td>\n",
       "</tr>\n",
       "<tr>\n",
       "  <th>Uniformity of Cell Shape</th> <td>   -0.0238</td> <td>    0.096</td> <td>   -0.248</td> <td> 0.804</td> <td>   -0.212</td> <td>    0.165</td>\n",
       "</tr>\n",
       "<tr>\n",
       "  <th>Bare Nuclei</th>              <td>    0.3539</td> <td>    0.053</td> <td>    6.705</td> <td> 0.000</td> <td>    0.250</td> <td>    0.457</td>\n",
       "</tr>\n",
       "<tr>\n",
       "  <th>Bland Chromatin</th>          <td>   -0.6762</td> <td>    0.081</td> <td>   -8.313</td> <td> 0.000</td> <td>   -0.836</td> <td>   -0.517</td>\n",
       "</tr>\n",
       "</table>"
      ],
      "text/plain": [
       "<class 'statsmodels.iolib.summary.Summary'>\n",
       "\"\"\"\n",
       "                           Logit Regression Results                           \n",
       "==============================================================================\n",
       "Dep. Variable:              Malignant   No. Observations:                  546\n",
       "Model:                          Logit   Df Residuals:                      542\n",
       "Method:                           MLE   Df Model:                            3\n",
       "Date:                Wed, 20 Jan 2021   Pseudo R-squ.:                  0.1732\n",
       "Time:                        19:23:35   Log-Likelihood:                -291.18\n",
       "converged:                       True   LL-Null:                       -352.19\n",
       "Covariance Type:            nonrobust   LLR p-value:                 2.848e-26\n",
       "============================================================================================\n",
       "                               coef    std err          z      P>|z|      [0.025      0.975]\n",
       "--------------------------------------------------------------------------------------------\n",
       "Uniformity of cell size      0.5480      0.105      5.238      0.000       0.343       0.753\n",
       "Uniformity of Cell Shape    -0.0238      0.096     -0.248      0.804      -0.212       0.165\n",
       "Bare Nuclei                  0.3539      0.053      6.705      0.000       0.250       0.457\n",
       "Bland Chromatin             -0.6762      0.081     -8.313      0.000      -0.836      -0.517\n",
       "============================================================================================\n",
       "\"\"\""
      ]
     },
     "execution_count": 170,
     "metadata": {},
     "output_type": "execute_result"
    }
   ],
   "source": [
    "import statsmodels.api as sm\n",
    "\n",
    "x = sm.add_constant(x_train)\n",
    "reg_log = sm.Logit(y_train,x_train)\n",
    "model_log = reg_log.fit()\n",
    "results = model_log.summary()\n",
    "results"
   ]
  },
  {
   "cell_type": "markdown",
   "metadata": {},
   "source": [
    "Statistically speaking, the pvalue indicates uniformity of shape factor is insignificant, does getting rid of it improve out accuracy scores?"
   ]
  },
  {
   "cell_type": "code",
   "execution_count": 306,
   "metadata": {},
   "outputs": [
    {
     "name": "stdout",
     "output_type": "stream",
     "text": [
      "Jaccard: 0.8275862068965517\n",
      "Accuracy: 0.927007299270073\n",
      "log loss: 0.3788867199076536\n",
      "Cross Validated Score:  0.9578754578754579\n",
      "\n",
      " Coefficients: [[ 0.2889262   0.25161915 -0.21130148]]\n",
      "Intercept:  [-0.87868859]\n",
      "\n",
      " (array([1406.13246957, 1426.24026974,  921.01001474]), array([8.92222628e-168, 3.40110327e-169, 1.26771179e-128]))\n"
     ]
    }
   ],
   "source": [
    "x_data = cancer_data[['Uniformity of cell size','Bare Nuclei', 'Bland Chromatin']]\n",
    "y_data = cancer_data.Malignant\n",
    "\n",
    "\n",
    "from sklearn.model_selection import train_test_split\n",
    "x_train , x_test , y_train , y_test = train_test_split(x_data , y_data , test_size = 0.2 , random_state = 0)\n",
    "\n",
    "from sklearn.linear_model import LogisticRegression\n",
    "model = LogisticRegression(C = 0.01 , solver = 'liblinear').fit(x_train , y_train)\n",
    "\n",
    "yhat = model.predict(x_test)\n",
    "yhat_prob = model.predict_proba(x_test)\n",
    "\n",
    "from sklearn.metrics import jaccard_score\n",
    "print('Jaccard:',jaccard_score(y_test, yhat))\n",
    "from sklearn.metrics import accuracy_score\n",
    "print('Accuracy:',accuracy_score(y_test, yhat))\n",
    "from sklearn.metrics import log_loss\n",
    "print('log loss:',log_loss(y_test,yhat_prob))\n",
    "\n",
    "from sklearn.model_selection import cross_val_score\n",
    "\n",
    "scores = cross_val_score(LogisticRegression() , x_train, y_train , cv = 3, scoring = 'accuracy')\n",
    "print('Cross Validated Score: ',np.mean(scores))\n",
    "\n",
    "print('\\n' ,'Coefficients:', model.coef_)\n",
    "print('Intercept: ',model.intercept_)\n",
    "\n",
    "from sklearn.feature_selection import f_regression\n",
    "print('\\n', f_regression(x_data, y_data))\n",
    "\n"
   ]
  },
  {
   "cell_type": "markdown",
   "metadata": {},
   "source": [
    "Lets take a look at potential multicolinearity to make sure our vairables are not effecting one another in our end result, y:\n",
    "\n",
    "We will do this using variance inflation factor.\n",
    "\n",
    "'VIF for a regression model variable is equal to the ratio of the overall model variance to the variance of a model that includes only that single independent variable.'"
   ]
  },
  {
   "cell_type": "code",
   "execution_count": 321,
   "metadata": {},
   "outputs": [
    {
     "name": "stdout",
     "output_type": "stream",
     "text": [
      "Index(['Patient ID', 'Clump Thickness', 'Uniformity of cell size',\n",
      "       'Uniformity of Cell Shape', 'Marginal Adhesion',\n",
      "       'single epithilial cell size', 'Bare Nuclei', 'Bland Chromatin',\n",
      "       'Normal Neucleoli', 'Mitosis', 'Malignant'],\n",
      "      dtype='object')\n"
     ]
    },
    {
     "data": {
      "text/html": [
       "<div>\n",
       "<style scoped>\n",
       "    .dataframe tbody tr th:only-of-type {\n",
       "        vertical-align: middle;\n",
       "    }\n",
       "\n",
       "    .dataframe tbody tr th {\n",
       "        vertical-align: top;\n",
       "    }\n",
       "\n",
       "    .dataframe thead th {\n",
       "        text-align: right;\n",
       "    }\n",
       "</style>\n",
       "<table border=\"1\" class=\"dataframe\">\n",
       "  <thead>\n",
       "    <tr style=\"text-align: right;\">\n",
       "      <th></th>\n",
       "      <th>VIF</th>\n",
       "      <th>Features</th>\n",
       "    </tr>\n",
       "  </thead>\n",
       "  <tbody>\n",
       "    <tr>\n",
       "      <th>0</th>\n",
       "      <td>6.556135</td>\n",
       "      <td>Uniformity of cell size</td>\n",
       "    </tr>\n",
       "    <tr>\n",
       "      <th>1</th>\n",
       "      <td>4.236454</td>\n",
       "      <td>Bare Nuclei</td>\n",
       "    </tr>\n",
       "    <tr>\n",
       "      <th>2</th>\n",
       "      <td>6.189374</td>\n",
       "      <td>Bland Chromatin</td>\n",
       "    </tr>\n",
       "    <tr>\n",
       "      <th>3</th>\n",
       "      <td>4.243987</td>\n",
       "      <td>Normal Neucleoli</td>\n",
       "    </tr>\n",
       "  </tbody>\n",
       "</table>\n",
       "</div>"
      ],
      "text/plain": [
       "        VIF                 Features\n",
       "0  6.556135  Uniformity of cell size\n",
       "1  4.236454              Bare Nuclei\n",
       "2  6.189374          Bland Chromatin\n",
       "3  4.243987         Normal Neucleoli"
      ]
     },
     "execution_count": 321,
     "metadata": {},
     "output_type": "execute_result"
    }
   ],
   "source": [
    "#check for multicolinearity using variance inflation factor, usually values of 7 or below are acceptable and have little multicolinearity with other variables.\n",
    "#See the differecne between with and without uniformity of cell shape!\n",
    "#VIF calculates ho much bigger the sum of square error is with multicolinearity vs when there is no multicolinearity\n",
    "print(cancer_data.columns)\n",
    "\n",
    "from statsmodels.stats.outliers_influence import variance_inflation_factor\n",
    "\n",
    "variables = cancer_data[['Uniformity of cell size','Bare Nuclei', 'Bland Chromatin', 'Normal Neucleoli']]\n",
    "\n",
    "VIF = pd.DataFrame({'VIF': [variance_inflation_factor(variables.values,i) for i in range(variables.shape[1])], 'Features': variables.columns})\n",
    "VIF"
   ]
  },
  {
   "cell_type": "code",
   "execution_count": 157,
   "metadata": {},
   "outputs": [
    {
     "name": "stdout",
     "output_type": "stream",
     "text": [
      "Optimization terminated successfully.\n",
      "         Current function value: 0.533359\n",
      "         Iterations 7\n"
     ]
    },
    {
     "data": {
      "text/html": [
       "<table class=\"simpletable\">\n",
       "<caption>Logit Regression Results</caption>\n",
       "<tr>\n",
       "  <th>Dep. Variable:</th>       <td>Malignant</td>    <th>  No. Observations:  </th>  <td>   546</td>  \n",
       "</tr>\n",
       "<tr>\n",
       "  <th>Model:</th>                 <td>Logit</td>      <th>  Df Residuals:      </th>  <td>   543</td>  \n",
       "</tr>\n",
       "<tr>\n",
       "  <th>Method:</th>                 <td>MLE</td>       <th>  Df Model:          </th>  <td>     2</td>  \n",
       "</tr>\n",
       "<tr>\n",
       "  <th>Date:</th>            <td>Wed, 20 Jan 2021</td> <th>  Pseudo R-squ.:     </th>  <td>0.1731</td>  \n",
       "</tr>\n",
       "<tr>\n",
       "  <th>Time:</th>                <td>19:10:20</td>     <th>  Log-Likelihood:    </th> <td> -291.21</td> \n",
       "</tr>\n",
       "<tr>\n",
       "  <th>converged:</th>             <td>True</td>       <th>  LL-Null:           </th> <td> -352.19</td> \n",
       "</tr>\n",
       "<tr>\n",
       "  <th>Covariance Type:</th>     <td>nonrobust</td>    <th>  LLR p-value:       </th> <td>3.306e-27</td>\n",
       "</tr>\n",
       "</table>\n",
       "<table class=\"simpletable\">\n",
       "<tr>\n",
       "             <td></td>                <th>coef</th>     <th>std err</th>      <th>z</th>      <th>P>|z|</th>  <th>[0.025</th>    <th>0.975]</th>  \n",
       "</tr>\n",
       "<tr>\n",
       "  <th>Uniformity of cell size</th> <td>    0.5302</td> <td>    0.075</td> <td>    7.025</td> <td> 0.000</td> <td>    0.382</td> <td>    0.678</td>\n",
       "</tr>\n",
       "<tr>\n",
       "  <th>Bare Nuclei</th>             <td>    0.3513</td> <td>    0.052</td> <td>    6.795</td> <td> 0.000</td> <td>    0.250</td> <td>    0.453</td>\n",
       "</tr>\n",
       "<tr>\n",
       "  <th>Bland Chromatin</th>         <td>   -0.6794</td> <td>    0.080</td> <td>   -8.446</td> <td> 0.000</td> <td>   -0.837</td> <td>   -0.522</td>\n",
       "</tr>\n",
       "</table>"
      ],
      "text/plain": [
       "<class 'statsmodels.iolib.summary.Summary'>\n",
       "\"\"\"\n",
       "                           Logit Regression Results                           \n",
       "==============================================================================\n",
       "Dep. Variable:              Malignant   No. Observations:                  546\n",
       "Model:                          Logit   Df Residuals:                      543\n",
       "Method:                           MLE   Df Model:                            2\n",
       "Date:                Wed, 20 Jan 2021   Pseudo R-squ.:                  0.1731\n",
       "Time:                        19:10:20   Log-Likelihood:                -291.21\n",
       "converged:                       True   LL-Null:                       -352.19\n",
       "Covariance Type:            nonrobust   LLR p-value:                 3.306e-27\n",
       "===========================================================================================\n",
       "                              coef    std err          z      P>|z|      [0.025      0.975]\n",
       "-------------------------------------------------------------------------------------------\n",
       "Uniformity of cell size     0.5302      0.075      7.025      0.000       0.382       0.678\n",
       "Bare Nuclei                 0.3513      0.052      6.795      0.000       0.250       0.453\n",
       "Bland Chromatin            -0.6794      0.080     -8.446      0.000      -0.837      -0.522\n",
       "===========================================================================================\n",
       "\"\"\""
      ]
     },
     "execution_count": 157,
     "metadata": {},
     "output_type": "execute_result"
    }
   ],
   "source": [
    "import statsmodels.api as sm\n",
    "\n",
    "x = sm.add_constant(x_train)\n",
    "reg_log = sm.Logit(y_train,x_train)\n",
    "model_log = reg_log.fit()\n",
    "results = model_log.summary()\n",
    "results"
   ]
  },
  {
   "cell_type": "markdown",
   "metadata": {},
   "source": [
    "Clearly the accuracy has been reduced quite considerably by removing that variable. Lets see what happens when we do a ridge regression: where variables with minor contribution have their coefficients close to zero. "
   ]
  },
  {
   "cell_type": "markdown",
   "metadata": {},
   "source": [
    "as alpha increases the underfitting of our model increases, conversly as alpha is reduced overfitting is increased."
   ]
  },
  {
   "cell_type": "code",
   "execution_count": 182,
   "metadata": {},
   "outputs": [
    {
     "name": "stdout",
     "output_type": "stream",
     "text": [
      "Ridge(alpha=100)\n"
     ]
    },
    {
     "data": {
      "text/plain": [
       "array([0.80077824, 0.8007783 , 0.80077882, 0.80078408, 0.80083503,\n",
       "       0.80120709, 0.79889172])"
      ]
     },
     "execution_count": 182,
     "metadata": {},
     "output_type": "execute_result"
    }
   ],
   "source": [
    "x_data = cancer_data[['Uniformity of cell size','Uniformity of Cell Shape','Bare Nuclei', 'Bland Chromatin']]\n",
    "y_data = cancer_data.Malignant\n",
    "\n",
    "\n",
    "from sklearn.model_selection import train_test_split\n",
    "x_train , x_test , y_train , y_test = train_test_split(x_data , y_data , test_size = 0.2 , random_state = 0)\n",
    "\n",
    "parameters = [{'alpha': [0.001,0.01,0.1,1,10,100,1000]}]\n",
    "\n",
    "from sklearn.linear_model import Ridge\n",
    "from sklearn.model_selection import GridSearchCV\n",
    "\n",
    "RR = Ridge()\n",
    "grid1 = GridSearchCV(RR, parameters, cv = 4)\n",
    "grid1.fit(x_data,y_data)\n",
    "print(grid1.best_estimator_)\n",
    "scores = grid1.cv_results_\n",
    "scores['mean_test_score']"
   ]
  },
  {
   "cell_type": "markdown",
   "metadata": {},
   "source": [
    "From the ridge regression we have seen a vast reduction in our models overall accuracy which had an oriigional cross validated (due to cross validation we can be certain thier is reduced overfitting of our model)score of 0.96, thats the correct output for 96% of cancer cases which is critical for medical performance as lives are at stake. "
   ]
  },
  {
   "cell_type": "code",
   "execution_count": null,
   "metadata": {},
   "outputs": [],
   "source": []
  },
  {
   "cell_type": "markdown",
   "metadata": {},
   "source": [
    "lets see what happens if we add any other variables such as Normal nucelei prescence. The problem with adding too many variables is data becomes overfit, so we need to be careful here. "
   ]
  },
  {
   "cell_type": "code",
   "execution_count": 186,
   "metadata": {},
   "outputs": [
    {
     "name": "stdout",
     "output_type": "stream",
     "text": [
      "Jaccard: 0.8421052631578947\n",
      "Accuracy: 0.9343065693430657\n",
      "log loss: 0.3840603854946553\n",
      "Cross Validated Score:  0.9652014652014652\n",
      "\n",
      " Coefficients: [[ 0.23128088  0.23352864 -0.2563969   0.14358846]]\n",
      "Intercept:  [-0.88388126]\n"
     ]
    }
   ],
   "source": [
    "x_data = cancer_data[['Uniformity of cell size','Uniformity of Cell Shape','Bare Nuclei', 'Bland Chromatin', 'Normal Neucleoli']]\n",
    "y_data = cancer_data.Malignant\n",
    "\n",
    "\n",
    "from sklearn.model_selection import train_test_split\n",
    "x_train , x_test , y_train , y_test = train_test_split(x_data , y_data , test_size = 0.2 , random_state = 0)\n",
    "\n",
    "from sklearn.linear_model import LogisticRegression\n",
    "model = LogisticRegression(C = 0.01 , solver = 'liblinear').fit(x_train , y_train)\n",
    "\n",
    "yhat = model.predict(x_test)\n",
    "yhat_prob = model.predict_proba(x_test)\n",
    "\n",
    "from sklearn.metrics import jaccard_score\n",
    "print('Jaccard:',jaccard_score(y_test, yhat))\n",
    "from sklearn.metrics import accuracy_score\n",
    "print('Accuracy:',accuracy_score(y_test, yhat))\n",
    "from sklearn.metrics import log_loss\n",
    "print('log loss:',log_loss(y_test,yhat_prob))\n",
    "\n",
    "from sklearn.model_selection import cross_val_score\n",
    "\n",
    "scores = cross_val_score(LogisticRegression() , x_train, y_train , cv = 3, scoring = 'accuracy')\n",
    "print('Cross Validated Score: ',np.mean(scores))\n",
    "\n",
    "print('\\n' ,'Coefficients:', model.coef_)\n",
    "print('Intercept: ',model.intercept_)\n"
   ]
  },
  {
   "cell_type": "code",
   "execution_count": 187,
   "metadata": {},
   "outputs": [
    {
     "name": "stdout",
     "output_type": "stream",
     "text": [
      "Optimization terminated successfully.\n",
      "         Current function value: 0.522801\n",
      "         Iterations 7\n"
     ]
    },
    {
     "data": {
      "text/html": [
       "<table class=\"simpletable\">\n",
       "<caption>Logit Regression Results</caption>\n",
       "<tr>\n",
       "  <th>Dep. Variable:</th>       <td>Malignant</td>    <th>  No. Observations:  </th>  <td>   546</td>  \n",
       "</tr>\n",
       "<tr>\n",
       "  <th>Model:</th>                 <td>Logit</td>      <th>  Df Residuals:      </th>  <td>   542</td>  \n",
       "</tr>\n",
       "<tr>\n",
       "  <th>Method:</th>                 <td>MLE</td>       <th>  Df Model:          </th>  <td>     3</td>  \n",
       "</tr>\n",
       "<tr>\n",
       "  <th>Date:</th>            <td>Wed, 20 Jan 2021</td> <th>  Pseudo R-squ.:     </th>  <td>0.1895</td>  \n",
       "</tr>\n",
       "<tr>\n",
       "  <th>Time:</th>                <td>20:17:55</td>     <th>  Log-Likelihood:    </th> <td> -285.45</td> \n",
       "</tr>\n",
       "<tr>\n",
       "  <th>converged:</th>             <td>True</td>       <th>  LL-Null:           </th> <td> -352.19</td> \n",
       "</tr>\n",
       "<tr>\n",
       "  <th>Covariance Type:</th>     <td>nonrobust</td>    <th>  LLR p-value:       </th> <td>9.627e-29</td>\n",
       "</tr>\n",
       "</table>\n",
       "<table class=\"simpletable\">\n",
       "<tr>\n",
       "             <td></td>                <th>coef</th>     <th>std err</th>      <th>z</th>      <th>P>|z|</th>  <th>[0.025</th>    <th>0.975]</th>  \n",
       "</tr>\n",
       "<tr>\n",
       "  <th>Uniformity of cell size</th> <td>    0.4424</td> <td>    0.078</td> <td>    5.695</td> <td> 0.000</td> <td>    0.290</td> <td>    0.595</td>\n",
       "</tr>\n",
       "<tr>\n",
       "  <th>Bare Nuclei</th>             <td>    0.3368</td> <td>    0.052</td> <td>    6.461</td> <td> 0.000</td> <td>    0.235</td> <td>    0.439</td>\n",
       "</tr>\n",
       "<tr>\n",
       "  <th>Bland Chromatin</th>         <td>   -0.7694</td> <td>    0.088</td> <td>   -8.704</td> <td> 0.000</td> <td>   -0.943</td> <td>   -0.596</td>\n",
       "</tr>\n",
       "<tr>\n",
       "  <th>Normal Neucleoli</th>        <td>    0.2196</td> <td>    0.066</td> <td>    3.326</td> <td> 0.001</td> <td>    0.090</td> <td>    0.349</td>\n",
       "</tr>\n",
       "</table>"
      ],
      "text/plain": [
       "<class 'statsmodels.iolib.summary.Summary'>\n",
       "\"\"\"\n",
       "                           Logit Regression Results                           \n",
       "==============================================================================\n",
       "Dep. Variable:              Malignant   No. Observations:                  546\n",
       "Model:                          Logit   Df Residuals:                      542\n",
       "Method:                           MLE   Df Model:                            3\n",
       "Date:                Wed, 20 Jan 2021   Pseudo R-squ.:                  0.1895\n",
       "Time:                        20:17:55   Log-Likelihood:                -285.45\n",
       "converged:                       True   LL-Null:                       -352.19\n",
       "Covariance Type:            nonrobust   LLR p-value:                 9.627e-29\n",
       "===========================================================================================\n",
       "                              coef    std err          z      P>|z|      [0.025      0.975]\n",
       "-------------------------------------------------------------------------------------------\n",
       "Uniformity of cell size     0.4424      0.078      5.695      0.000       0.290       0.595\n",
       "Bare Nuclei                 0.3368      0.052      6.461      0.000       0.235       0.439\n",
       "Bland Chromatin            -0.7694      0.088     -8.704      0.000      -0.943      -0.596\n",
       "Normal Neucleoli            0.2196      0.066      3.326      0.001       0.090       0.349\n",
       "===========================================================================================\n",
       "\"\"\""
      ]
     },
     "execution_count": 187,
     "metadata": {},
     "output_type": "execute_result"
    }
   ],
   "source": [
    "import statsmodels.api as sm\n",
    "\n",
    "x = sm.add_constant(x_train)\n",
    "reg_log = sm.Logit(y_train,x_train)\n",
    "model_log = reg_log.fit()\n",
    "results = model_log.summary()\n",
    "results"
   ]
  },
  {
   "cell_type": "markdown",
   "metadata": {},
   "source": [
    "accuracy, jaccard and log loss have been reduced here and the cross validated score is almost exactly the same as with just 4 variables.\n",
    "\n",
    "we can see that again uniformity of shape is in significant. can we improve the model by getting rid of it and adding our new significant variable, Normal Neucleoli"
   ]
  },
  {
   "cell_type": "code",
   "execution_count": 189,
   "metadata": {},
   "outputs": [
    {
     "name": "stdout",
     "output_type": "stream",
     "text": [
      "Jaccard: 0.8421052631578947\n",
      "Accuracy: 0.9343065693430657\n",
      "log loss: 0.3840603854946553\n",
      "Cross Validated Score:  0.9652014652014652\n",
      "\n",
      " Coefficients: [[ 0.23128088  0.23352864 -0.2563969   0.14358846]]\n",
      "Intercept:  [-0.88388126]\n",
      "Optimization terminated successfully.\n",
      "         Current function value: 0.522801\n",
      "         Iterations 7\n"
     ]
    },
    {
     "data": {
      "text/html": [
       "<table class=\"simpletable\">\n",
       "<caption>Logit Regression Results</caption>\n",
       "<tr>\n",
       "  <th>Dep. Variable:</th>       <td>Malignant</td>    <th>  No. Observations:  </th>  <td>   546</td>  \n",
       "</tr>\n",
       "<tr>\n",
       "  <th>Model:</th>                 <td>Logit</td>      <th>  Df Residuals:      </th>  <td>   542</td>  \n",
       "</tr>\n",
       "<tr>\n",
       "  <th>Method:</th>                 <td>MLE</td>       <th>  Df Model:          </th>  <td>     3</td>  \n",
       "</tr>\n",
       "<tr>\n",
       "  <th>Date:</th>            <td>Wed, 20 Jan 2021</td> <th>  Pseudo R-squ.:     </th>  <td>0.1895</td>  \n",
       "</tr>\n",
       "<tr>\n",
       "  <th>Time:</th>                <td>20:20:28</td>     <th>  Log-Likelihood:    </th> <td> -285.45</td> \n",
       "</tr>\n",
       "<tr>\n",
       "  <th>converged:</th>             <td>True</td>       <th>  LL-Null:           </th> <td> -352.19</td> \n",
       "</tr>\n",
       "<tr>\n",
       "  <th>Covariance Type:</th>     <td>nonrobust</td>    <th>  LLR p-value:       </th> <td>9.627e-29</td>\n",
       "</tr>\n",
       "</table>\n",
       "<table class=\"simpletable\">\n",
       "<tr>\n",
       "             <td></td>                <th>coef</th>     <th>std err</th>      <th>z</th>      <th>P>|z|</th>  <th>[0.025</th>    <th>0.975]</th>  \n",
       "</tr>\n",
       "<tr>\n",
       "  <th>Uniformity of cell size</th> <td>    0.4424</td> <td>    0.078</td> <td>    5.695</td> <td> 0.000</td> <td>    0.290</td> <td>    0.595</td>\n",
       "</tr>\n",
       "<tr>\n",
       "  <th>Bare Nuclei</th>             <td>    0.3368</td> <td>    0.052</td> <td>    6.461</td> <td> 0.000</td> <td>    0.235</td> <td>    0.439</td>\n",
       "</tr>\n",
       "<tr>\n",
       "  <th>Bland Chromatin</th>         <td>   -0.7694</td> <td>    0.088</td> <td>   -8.704</td> <td> 0.000</td> <td>   -0.943</td> <td>   -0.596</td>\n",
       "</tr>\n",
       "<tr>\n",
       "  <th>Normal Neucleoli</th>        <td>    0.2196</td> <td>    0.066</td> <td>    3.326</td> <td> 0.001</td> <td>    0.090</td> <td>    0.349</td>\n",
       "</tr>\n",
       "</table>"
      ],
      "text/plain": [
       "<class 'statsmodels.iolib.summary.Summary'>\n",
       "\"\"\"\n",
       "                           Logit Regression Results                           \n",
       "==============================================================================\n",
       "Dep. Variable:              Malignant   No. Observations:                  546\n",
       "Model:                          Logit   Df Residuals:                      542\n",
       "Method:                           MLE   Df Model:                            3\n",
       "Date:                Wed, 20 Jan 2021   Pseudo R-squ.:                  0.1895\n",
       "Time:                        20:20:28   Log-Likelihood:                -285.45\n",
       "converged:                       True   LL-Null:                       -352.19\n",
       "Covariance Type:            nonrobust   LLR p-value:                 9.627e-29\n",
       "===========================================================================================\n",
       "                              coef    std err          z      P>|z|      [0.025      0.975]\n",
       "-------------------------------------------------------------------------------------------\n",
       "Uniformity of cell size     0.4424      0.078      5.695      0.000       0.290       0.595\n",
       "Bare Nuclei                 0.3368      0.052      6.461      0.000       0.235       0.439\n",
       "Bland Chromatin            -0.7694      0.088     -8.704      0.000      -0.943      -0.596\n",
       "Normal Neucleoli            0.2196      0.066      3.326      0.001       0.090       0.349\n",
       "===========================================================================================\n",
       "\"\"\""
      ]
     },
     "execution_count": 189,
     "metadata": {},
     "output_type": "execute_result"
    }
   ],
   "source": [
    "x_data = cancer_data[['Uniformity of cell size','Bare Nuclei', 'Bland Chromatin', 'Normal Neucleoli']]\n",
    "y_data = cancer_data.Malignant\n",
    "\n",
    "\n",
    "from sklearn.model_selection import train_test_split\n",
    "x_train , x_test , y_train , y_test = train_test_split(x_data , y_data , test_size = 0.2 , random_state = 0)\n",
    "\n",
    "from sklearn.linear_model import LogisticRegression\n",
    "model = LogisticRegression(C = 0.01 , solver = 'liblinear').fit(x_train , y_train)\n",
    "\n",
    "yhat = model.predict(x_test)\n",
    "yhat_prob = model.predict_proba(x_test)\n",
    "\n",
    "from sklearn.metrics import jaccard_score\n",
    "print('Jaccard:',jaccard_score(y_test, yhat))\n",
    "from sklearn.metrics import accuracy_score\n",
    "print('Accuracy:',accuracy_score(y_test, yhat))\n",
    "from sklearn.metrics import log_loss\n",
    "print('log loss:',log_loss(y_test,yhat_prob))\n",
    "\n",
    "from sklearn.model_selection import cross_val_score\n",
    "\n",
    "scores = cross_val_score(LogisticRegression() , x_train, y_train , cv = 3, scoring = 'accuracy')\n",
    "print('Cross Validated Score: ',np.mean(scores))\n",
    "\n",
    "print('\\n' ,'Coefficients:', model.coef_)\n",
    "print('Intercept: ',model.intercept_)\n",
    "\n",
    "import statsmodels.api as sm\n",
    "\n",
    "x = sm.add_constant(x_train)\n",
    "reg_log = sm.Logit(y_train,x_train)\n",
    "model_log = reg_log.fit()\n",
    "results = model_log.summary()\n",
    "results\n"
   ]
  },
  {
   "cell_type": "markdown",
   "metadata": {},
   "source": [
    "we can see jaccard score and cross validated score have imporved and so this will be our prefered model.\n",
    "\n",
    "The reasons for statsmodels and sklearn showing different coefficient results is becuase of the regularisation provided by sklearn code that enables us to reduce overfitting of the model. "
   ]
  },
  {
   "cell_type": "code",
   "execution_count": 252,
   "metadata": {},
   "outputs": [
    {
     "data": {
      "text/plain": [
       "array([1])"
      ]
     },
     "execution_count": 252,
     "metadata": {},
     "output_type": "execute_result"
    }
   ],
   "source": [
    "#practice predicting on the origional model with the highest cross val score\n",
    "#variables to play with: 'Uniformity of cell size','Bare Nuclei', 'Bland Chromatin', 'Normal Neucleoli'\n",
    "prediction = model.predict([[1,2,1,3]])\n",
    "prediction\n",
    "#this prediction is the threshold leading to cancer for all variables\n",
    "#from our model we can see that having less bland chromatin increases cancer the most, followed by uniformity of cell shape, then having bare nuclei."
   ]
  },
  {
   "cell_type": "code",
   "execution_count": null,
   "metadata": {},
   "outputs": [],
   "source": []
  },
  {
   "cell_type": "markdown",
   "metadata": {},
   "source": [
    "<h1>Support vector machine</h1>"
   ]
  },
  {
   "cell_type": "code",
   "execution_count": 254,
   "metadata": {},
   "outputs": [
    {
     "data": {
      "text/plain": [
       "<AxesSubplot:xlabel='Uniformity of cell size', ylabel='Bare Nuclei'>"
      ]
     },
     "execution_count": 254,
     "metadata": {},
     "output_type": "execute_result"
    },
    {
     "data": {
      "image/png": "[encoded data removed]",
      "text/plain": [
       "<Figure size 432x288 with 1 Axes>"
      ]
     },
     "metadata": {
      "needs_background": "light"
     },
     "output_type": "display_data"
    }
   ],
   "source": [
    "ax = cancer_data[cancer_data['Malignant'] == 1].plot(kind = 'scatter',x = 'Uniformity of cell size', y = 'Bare Nuclei', label = 'M', c = 'red')\n",
    "cancer_data[cancer_data['Malignant'] == 0].plot(kind = 'scatter',x = 'Uniformity of cell size', y = 'Bare Nuclei', label = 'B', c = 'green', ax = ax)"
   ]
  },
  {
   "cell_type": "code",
   "execution_count": 255,
   "metadata": {},
   "outputs": [
    {
     "data": {
      "text/plain": [
       "<AxesSubplot:xlabel='Uniformity of cell size', ylabel='Uniformity of Cell Shape'>"
      ]
     },
     "execution_count": 255,
     "metadata": {},
     "output_type": "execute_result"
    },
    {
     "data": {
      "image/png": "[encoded data removed]",
      "text/plain": [
       "<Figure size 432x288 with 1 Axes>"
      ]
     },
     "metadata": {
      "needs_background": "light"
     },
     "output_type": "display_data"
    }
   ],
   "source": [
    "ax = uniformity_group[uniformity_group.Malignant == 1].plot(kind = 'scatter', x = 'Uniformity of cell size', y = 'Uniformity of Cell Shape', label = 'Malignant', c = 'red')\n",
    "uniformity_group[uniformity_group.Malignant == 0].plot(kind = 'scatter', x = 'Uniformity of cell size', y = 'Uniformity of Cell Shape', label = 'Benign', c = 'green', ax = ax)"
   ]
  },
  {
   "cell_type": "markdown",
   "metadata": {},
   "source": [
    "A svm is used as a classifying algorithm that works by separating data into classes via a 'separator'"
   ]
  },
  {
   "cell_type": "code",
   "execution_count": 266,
   "metadata": {},
   "outputs": [
    {
     "name": "stdout",
     "output_type": "stream",
     "text": [
      "[[84  3]\n",
      " [ 3 47]]\n",
      "              precision    recall  f1-score   support\n",
      "\n",
      "           0       0.97      0.97      0.97        87\n",
      "           1       0.94      0.94      0.94        50\n",
      "\n",
      "    accuracy                           0.96       137\n",
      "   macro avg       0.95      0.95      0.95       137\n",
      "weighted avg       0.96      0.96      0.96       137\n",
      "\n",
      "0.8867924528301887\n"
     ]
    },
    {
     "data": {
      "text/plain": [
       "0.9562043795620438"
      ]
     },
     "execution_count": 266,
     "metadata": {},
     "output_type": "execute_result"
    }
   ],
   "source": [
    "x_data = cancer_data[['Uniformity of cell size','Bare Nuclei']]\n",
    "y_data = cancer_data.Malignant\n",
    "\n",
    "from sklearn.model_selection import train_test_split\n",
    "x_train , x_test, y_train, y_test = train_test_split(x_data,y_data, test_size = 0.2, random_state = 0)\n",
    "\n",
    "from sklearn import svm\n",
    "\n",
    "kernel_set = svm.SVC(kernel = 'rbf')\n",
    "#\n",
    "model = kernel_set.fit(x_train,y_train)\n",
    "\n",
    "yhat = model.predict(x_test)\n",
    "\n",
    "from sklearn.metrics import classification_report , confusion_matrix\n",
    "print(confusion_matrix(y_test,yhat))\n",
    "print(classification_report(y_test,yhat))\n",
    "print(jaccard_score(y_test,yhat))\n",
    "accuracy_score(y_test,yhat)"
   ]
  },
  {
   "cell_type": "code",
   "execution_count": 290,
   "metadata": {},
   "outputs": [
    {
     "name": "stdout",
     "output_type": "stream",
     "text": [
      "[[85  2]\n",
      " [ 1 49]]\n",
      "              precision    recall  f1-score   support\n",
      "\n",
      "           0       0.99      0.98      0.98        87\n",
      "           1       0.96      0.98      0.97        50\n",
      "\n",
      "    accuracy                           0.98       137\n",
      "   macro avg       0.97      0.98      0.98       137\n",
      "weighted avg       0.98      0.98      0.98       137\n",
      "\n",
      "0.9423076923076923\n",
      "0.9781021897810219\n",
      "Cross Validated Score:  0.9707472959685349\n"
     ]
    },
    {
     "data": {
      "text/plain": [
       "(85, 2, 1, 49)"
      ]
     },
     "execution_count": 290,
     "metadata": {},
     "output_type": "execute_result"
    }
   ],
   "source": [
    "x_data = cancer_data[[ 'Marginal Adhesion','Clump Thickness','Uniformity of cell size','Uniformity of Cell Shape','Bare Nuclei', 'Bland Chromatin']]\n",
    "y_data = cancer_data.Malignant\n",
    "\n",
    "from sklearn.model_selection import train_test_split\n",
    "x_train , x_test, y_train, y_test = train_test_split(x_data,y_data, test_size = 0.2, random_state = 0)\n",
    "\n",
    "from sklearn import svm\n",
    "\n",
    "kernel_set = svm.SVC(kernel = 'rbf')\n",
    "#\n",
    "model = kernel_set.fit(x_train,y_train)\n",
    "\n",
    "yhat = model.predict(x_test)\n",
    "\n",
    "from sklearn.metrics import classification_report , confusion_matrix\n",
    "print(confusion_matrix(y_test,yhat))\n",
    "print(classification_report(y_test,yhat))\n",
    "print(jaccard_score(y_test,yhat))\n",
    "print(accuracy_score(y_test,yhat))\n",
    "\n",
    "scores = cross_val_score(svm.SVC(kernel = 'rbf') , x_data, y_data , cv = 6, scoring = 'accuracy')\n",
    "print('Cross Validated Score: ',np.mean(scores))\n",
    "\n",
    "tn, fp, fn, tp = confusion_matrix(y_test, yhat).ravel()\n",
    "(tn, fp, fn, tp)"
   ]
  },
  {
   "cell_type": "code",
   "execution_count": null,
   "metadata": {},
   "outputs": [],
   "source": []
  },
  {
   "cell_type": "code",
   "execution_count": null,
   "metadata": {},
   "outputs": [],
   "source": []
  },
  {
   "cell_type": "code",
   "execution_count": null,
   "metadata": {},
   "outputs": [],
   "source": []
  },
  {
   "cell_type": "markdown",
   "metadata": {},
   "source": [
    "<h1>K NEAREST NEIGHBORS</h1>"
   ]
  },
  {
   "cell_type": "code",
   "execution_count": 391,
   "metadata": {},
   "outputs": [
    {
     "name": "stdout",
     "output_type": "stream",
     "text": [
      "Best Score was: 0.9781021897810219\n",
      "With K of: 1\n"
     ]
    }
   ],
   "source": [
    "x_data = cancer_data[['Marginal Adhesion','Clump Thickness','Uniformity of cell size','Bare Nuclei', 'Bland Chromatin']]\n",
    "y_data = cancer_data.Malignant\n",
    "\n",
    "from sklearn.model_selection import train_test_split\n",
    "x_train , x_test, y_train, y_test = train_test_split(x_data,y_data, test_size = 0.2, random_state = 0)\n",
    "\n",
    "from sklearn.neighbors import KNeighborsClassifier\n",
    "\n",
    "ks = [1,2,3,4,5,6,7,8]\n",
    "mean_acc = []\n",
    "for n in ks:\n",
    "    model = KNeighborsClassifier(n_neighbors = n).fit(x_train,y_train)\n",
    "    yhat = model.predict(x_test)\n",
    "    mean_acc.append(accuracy_score(y_test,yhat))\n",
    "\n",
    "print('Best Score was:',max(mean_acc))\n",
    "print('With K of:', mean_acc.index(max(mean_acc))+1)"
   ]
  },
  {
   "cell_type": "code",
   "execution_count": null,
   "metadata": {},
   "outputs": [],
   "source": []
  }
 ],
 "metadata": {
  "kernelspec": {
   "display_name": "Python 3",
   "language": "python",
   "name": "python3"
  },
  "language_info": {
   "codemirror_mode": {
    "name": "ipython",
    "version": 3
   },
   "file_extension": ".py",
   "mimetype": "text/x-python",
   "name": "python",
   "nbconvert_exporter": "python",
   "pygments_lexer": "ipython3",
   "version": "3.8.5"
  }
 },
 "nbformat": 4,
 "nbformat_minor": 4
}
